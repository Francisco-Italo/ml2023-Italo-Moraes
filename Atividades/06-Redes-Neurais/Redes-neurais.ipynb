{
  "nbformat": 4,
  "nbformat_minor": 0,
  "metadata": {
    "colab": {
      "provenance": [],
      "authorship_tag": "ABX9TyNNoBxoy8RX/xcef7iK9EZ7",
      "include_colab_link": true
    },
    "kernelspec": {
      "name": "python3",
      "display_name": "Python 3"
    },
    "language_info": {
      "name": "python"
    }
  },
  "cells": [
    {
      "cell_type": "markdown",
      "metadata": {
        "id": "view-in-github",
        "colab_type": "text"
      },
      "source": [
        "<a href=\"https://colab.research.google.com/github/Francisco-Italo/ml2023-Italo-Moraes/blob/master/Atividades/06-Redes-Neurais/Redes-neurais.ipynb\" target=\"_parent\"><img src=\"https://colab.research.google.com/assets/colab-badge.svg\" alt=\"Open In Colab\"/></a>"
      ]
    },
    {
      "cell_type": "markdown",
      "source": [
        "## Declaração das funções e estruturas que serão usadas."
      ],
      "metadata": {
        "id": "OHD1id1N0Fjz"
      }
    },
    {
      "cell_type": "code",
      "execution_count": 1,
      "metadata": {
        "id": "vyvwEghqeyZO"
      },
      "outputs": [],
      "source": [
        "from sklearn.model_selection import train_test_split\n",
        "from sklearn.linear_model import LogisticRegression\n",
        "from sklearn.preprocessing import StandardScaler\n",
        "from sklearn.datasets import load_breast_cancer\n",
        "from sklearn.linear_model import SGDClassifier\n",
        "from sklearn.linear_model import Perceptron\n",
        "from sklearn.metrics import accuracy_score\n",
        "import numpy as np"
      ]
    },
    {
      "cell_type": "markdown",
      "source": [
        "## *Download* do dataset de câncer de mama (WDBC)."
      ],
      "metadata": {
        "id": "s8EY3qbL0XvR"
      }
    },
    {
      "cell_type": "code",
      "source": [
        "data = load_breast_cancer()\n",
        "X = data.data\n",
        "y = data.target"
      ],
      "metadata": {
        "id": "5uqIS5cpfFRK"
      },
      "execution_count": 2,
      "outputs": []
    },
    {
      "cell_type": "markdown",
      "source": [
        "## Normalização dos dados.\n",
        "\n"
      ],
      "metadata": {
        "id": "uydGzoAf1M7X"
      }
    },
    {
      "cell_type": "code",
      "source": [
        "scaler = StandardScaler()\n",
        "X = scaler.fit_transform(X)"
      ],
      "metadata": {
        "id": "C7oANGEQX7rQ"
      },
      "execution_count": 3,
      "outputs": []
    },
    {
      "cell_type": "markdown",
      "source": [
        "## Separação dos dados em datasets de treino e teste."
      ],
      "metadata": {
        "id": "RvyyhxSs1So6"
      }
    },
    {
      "cell_type": "code",
      "source": [
        "X_train, X_test, y_train, y_test = train_test_split(X, y, test_size=0.3, random_state=42)"
      ],
      "metadata": {
        "id": "_Dqv92J7f8TX"
      },
      "execution_count": 4,
      "outputs": []
    },
    {
      "cell_type": "markdown",
      "source": [
        "## Treino do perceptron."
      ],
      "metadata": {
        "id": "269TR3RY1ZOg"
      }
    },
    {
      "cell_type": "code",
      "source": [
        "perceptron = Perceptron(max_iter=300, eta0=0.1, random_state=42)"
      ],
      "metadata": {
        "id": "2eSCLxTWh7cC"
      },
      "execution_count": 5,
      "outputs": []
    },
    {
      "cell_type": "markdown",
      "source": [
        "## Treino do perceptron, predição dos dados e cálculo da acurácia."
      ],
      "metadata": {
        "id": "8wpIpVHw1cxx"
      }
    },
    {
      "cell_type": "code",
      "source": [
        "perceptron.fit(X_train, y_train)\n",
        "\n",
        "y_pred = perceptron.predict(X_test)"
      ],
      "metadata": {
        "id": "PQrDOf6MmoR-"
      },
      "execution_count": 6,
      "outputs": []
    },
    {
      "cell_type": "code",
      "source": [
        "accuracy = accuracy_score(y_test, y_pred)\n",
        "print(\"Accuracy:\", accuracy)"
      ],
      "metadata": {
        "colab": {
          "base_uri": "https://localhost:8080/"
        },
        "id": "G88Z0_5kmwSj",
        "outputId": "b95dc17a-43ad-45db-9f67-e33f6713ad66"
      },
      "execution_count": 7,
      "outputs": [
        {
          "output_type": "stream",
          "name": "stdout",
          "text": [
            "Accuracy: 0.9590643274853801\n"
          ]
        }
      ]
    },
    {
      "cell_type": "markdown",
      "source": [
        "## Treino, predição e cálculo da acurácia usando regressão logística."
      ],
      "metadata": {
        "id": "i_KvI8VO17X_"
      }
    },
    {
      "cell_type": "code",
      "source": [
        "logistic_regression = LogisticRegression(max_iter=300, random_state=42)"
      ],
      "metadata": {
        "id": "L3u2UuAfzWGZ"
      },
      "execution_count": 8,
      "outputs": []
    },
    {
      "cell_type": "code",
      "source": [
        "logistic_regression.fit(X_train, y_train)\n",
        "\n",
        "y_pred = logistic_regression.predict(X_test)"
      ],
      "metadata": {
        "id": "CvFilrcSzq4L"
      },
      "execution_count": 9,
      "outputs": []
    },
    {
      "cell_type": "code",
      "source": [
        "accuracy = accuracy_score(y_test, y_pred)\n",
        "print(\"Accuracy:\", accuracy)"
      ],
      "metadata": {
        "colab": {
          "base_uri": "https://localhost:8080/"
        },
        "id": "AMkKPsBL0kVK",
        "outputId": "d26f8b65-7992-4b8b-ded0-3b048ac4a083"
      },
      "execution_count": 10,
      "outputs": [
        {
          "output_type": "stream",
          "name": "stdout",
          "text": [
            "Accuracy: 0.9824561403508771\n"
          ]
        }
      ]
    },
    {
      "cell_type": "markdown",
      "source": [
        "## Treino, predição e cálculo da acurácia utilizando Gradiente Descendente Estocástico como a rede neural Adaline."
      ],
      "metadata": {
        "id": "KNsroj772i_2"
      }
    },
    {
      "cell_type": "code",
      "source": [
        "adaline = SGDClassifier(loss='squared_hinge', learning_rate='constant', eta0=0.01, max_iter=300, random_state=42)"
      ],
      "metadata": {
        "id": "onoVKIQycbs_"
      },
      "execution_count": 11,
      "outputs": []
    },
    {
      "cell_type": "code",
      "source": [
        "adaline.fit(X_train, y_train)\n",
        "\n",
        "y_pred = adaline.predict(X_test)"
      ],
      "metadata": {
        "id": "gRlqkwoOcn97"
      },
      "execution_count": 12,
      "outputs": []
    },
    {
      "cell_type": "code",
      "source": [
        "accuracy = accuracy_score(y_test, y_pred)\n",
        "print(\"Accuracy:\", accuracy)"
      ],
      "metadata": {
        "colab": {
          "base_uri": "https://localhost:8080/"
        },
        "id": "L4VLnT1sewzF",
        "outputId": "9b6adbca-6e82-45bc-a1d6-b97326930093"
      },
      "execution_count": 13,
      "outputs": [
        {
          "output_type": "stream",
          "name": "stdout",
          "text": [
            "Accuracy: 0.9707602339181286\n"
          ]
        }
      ]
    },
    {
      "cell_type": "markdown",
      "source": [
        "## Treino, predição e cálculo da acurácia utilizando Gradiente Descendente Estocástico como a rede neural Adaline, com a aplicação de _mini batches_."
      ],
      "metadata": {
        "id": "SXTWsdC53dB-"
      }
    },
    {
      "cell_type": "code",
      "source": [
        "adaline_mini_batches = SGDClassifier(loss='squared_hinge', learning_rate='constant', eta0=0.01, max_iter=300, random_state=42)"
      ],
      "metadata": {
        "id": "qjWzzYgJrdgS"
      },
      "execution_count": 14,
      "outputs": []
    },
    {
      "cell_type": "code",
      "source": [
        "batch_size = 20\n",
        "num_samples = X_train.shape[0]\n",
        "num_batches = num_samples // batch_size"
      ],
      "metadata": {
        "id": "8SjkOdIv6BOI"
      },
      "execution_count": 15,
      "outputs": []
    },
    {
      "cell_type": "code",
      "source": [
        "for _ in range(num_batches):\n",
        "    batch_indices = np.random.choice(num_samples, size=batch_size, replace=False)\n",
        "    X_batch = X_train[batch_indices]\n",
        "    y_batch = y_train[batch_indices]\n",
        "    adaline_mini_batches.partial_fit(X_batch, y_batch, classes=np.unique(y))"
      ],
      "metadata": {
        "id": "1qP2dpg56FCd"
      },
      "execution_count": 16,
      "outputs": []
    },
    {
      "cell_type": "code",
      "source": [
        "y_pred = adaline_mini_batches.predict(X_test)"
      ],
      "metadata": {
        "id": "P6NwyQCf6O-u"
      },
      "execution_count": 17,
      "outputs": []
    },
    {
      "cell_type": "code",
      "source": [
        "accuracy = accuracy_score(y_test, y_pred)\n",
        "print(\"Accuracy:\", accuracy)"
      ],
      "metadata": {
        "colab": {
          "base_uri": "https://localhost:8080/"
        },
        "id": "mfBDR0ZG6Y0R",
        "outputId": "c64fcb25-e96b-46eb-bc5e-4cbdd089fb41"
      },
      "execution_count": 18,
      "outputs": [
        {
          "output_type": "stream",
          "name": "stdout",
          "text": [
            "Accuracy: 0.9824561403508771\n"
          ]
        }
      ]
    }
  ]
}