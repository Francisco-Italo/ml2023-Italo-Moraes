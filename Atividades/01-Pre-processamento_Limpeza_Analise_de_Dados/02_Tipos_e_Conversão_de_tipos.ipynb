{
  "cells": [
    {
      "cell_type": "markdown",
      "metadata": {
        "id": "view-in-github",
        "colab_type": "text"
      },
      "source": [
        "<a href=\"https://colab.research.google.com/github/Francisco-Italo/ml2023-Italo-Moraes/blob/master/Atividades/01-Pre-processamento_Limpeza_Analise_de_Dados/02_Tipos_e_Convers%C3%A3o_de_tipos.ipynb\" target=\"_parent\"><img src=\"https://colab.research.google.com/assets/colab-badge.svg\" alt=\"Open In Colab\"/></a>"
      ]
    },
    {
      "cell_type": "markdown",
      "metadata": {
        "id": "cRRiEP2CZcoz"
      },
      "source": [
        "# 2 - Tipos e Conversão de tipos\n",
        "O Numpy suporta uma variedade de tipos muito maior do que o Python."
      ]
    },
    {
      "cell_type": "markdown",
      "metadata": {
        "id": "n50lwZ71Zco9"
      },
      "source": [
        "Existem 5 tipos básicos numéricos\n",
        "- Booleans (bool)\n",
        "- Integers (int)\n",
        "- Unsigned Intergers (uint)\n",
        "- Floating Points (float)\n",
        "- Complex\n",
        "\n",
        "Complementarmente, a célula abaixo mostra um quadro comparativos com uma maior quantidade de tipos do Numpy."
      ]
    },
    {
      "cell_type": "markdown",
      "metadata": {
        "id": "j9kPfft9Zco_"
      },
      "source": [
        "![datatypes.png](attachment:datatypes.png)"
      ]
    },
    {
      "cell_type": "code",
      "execution_count": null,
      "metadata": {
        "id": "0R9J1RKEZcpC"
      },
      "outputs": [],
      "source": [
        "import numpy as np"
      ]
    },
    {
      "cell_type": "code",
      "execution_count": null,
      "metadata": {
        "id": "GdbpsW-uZcpH",
        "outputId": "e89ebc86-48b3-4642-9d26-c9e28e165f3d",
        "colab": {
          "base_uri": "https://localhost:8080/"
        }
      },
      "outputs": [
        {
          "output_type": "execute_result",
          "data": {
            "text/plain": [
              "1.0"
            ]
          },
          "metadata": {},
          "execution_count": 3
        }
      ],
      "source": [
        "# Converte o numeral no tipo float de 32 bits\n",
        "x = np.float32(1.0)\n",
        "x"
      ]
    },
    {
      "cell_type": "code",
      "execution_count": null,
      "metadata": {
        "id": "-yQ5WX7BZcpN",
        "outputId": "432cc189-ee5a-474d-d4d8-264cdb5be145",
        "colab": {
          "base_uri": "https://localhost:8080/"
        }
      },
      "outputs": [
        {
          "output_type": "execute_result",
          "data": {
            "text/plain": [
              "array([1, 2, 4])"
            ]
          },
          "metadata": {},
          "execution_count": 4
        }
      ],
      "source": [
        "# Converte o array em array de inteiros\n",
        "y = np.int_([1,2,4])\n",
        "y"
      ]
    },
    {
      "cell_type": "code",
      "execution_count": null,
      "metadata": {
        "id": "_4btno5wZcpO",
        "outputId": "d9b18fb6-a2ca-495c-a805-40a8c1acb543",
        "colab": {
          "base_uri": "https://localhost:8080/"
        }
      },
      "outputs": [
        {
          "output_type": "execute_result",
          "data": {
            "text/plain": [
              "array([0, 1, 2], dtype=uint8)"
            ]
          },
          "metadata": {},
          "execution_count": 6
        }
      ],
      "source": [
        "# Declara um array com uma certa tipagem, inicializando-o em ordem crescente de 0 a um limite superior-1\n",
        "z = np.arange(3, dtype=np.uint8)\n",
        "z"
      ]
    },
    {
      "cell_type": "code",
      "execution_count": null,
      "metadata": {
        "id": "YNFmVCLpZcpP",
        "outputId": "90bc4681-96c6-4d36-b636-f021401eb5a0",
        "colab": {
          "base_uri": "https://localhost:8080/"
        }
      },
      "outputs": [
        {
          "output_type": "execute_result",
          "data": {
            "text/plain": [
              "array([1., 2., 3.], dtype=float32)"
            ]
          },
          "metadata": {},
          "execution_count": 9
        }
      ],
      "source": [
        "# Inicializa o array com valores definidos pelo usuário com tipagem definida pelo usuário\n",
        "np.array([1, 2, 3], dtype='f')"
      ]
    },
    {
      "cell_type": "markdown",
      "metadata": {
        "id": "fj053e_OZcpQ"
      },
      "source": [
        "## Convertendo tipos de arrays"
      ]
    },
    {
      "cell_type": "markdown",
      "metadata": {
        "id": "Uwt4tRVFZcpQ"
      },
      "source": [
        "Para convertermos arrays Numpy, basta utilizarmos o método astype()."
      ]
    },
    {
      "cell_type": "code",
      "execution_count": null,
      "metadata": {
        "id": "L9BcaWJ1ZcpS",
        "outputId": "a5a37085-9562-45b5-cd8e-b7ab201f1cf4",
        "colab": {
          "base_uri": "https://localhost:8080/"
        }
      },
      "outputs": [
        {
          "output_type": "execute_result",
          "data": {
            "text/plain": [
              "array([0., 1., 2.])"
            ]
          },
          "metadata": {},
          "execution_count": 10
        }
      ],
      "source": [
        "# Converte o array para float\n",
        "z.astype(float)"
      ]
    },
    {
      "cell_type": "code",
      "execution_count": null,
      "metadata": {
        "id": "jazi3mcAZcpT",
        "outputId": "e0c440cb-29a6-4558-e8b7-2840614d6d1b",
        "colab": {
          "base_uri": "https://localhost:8080/"
        }
      },
      "outputs": [
        {
          "output_type": "execute_result",
          "data": {
            "text/plain": [
              "array([0, 1, 2], dtype=int8)"
            ]
          },
          "metadata": {},
          "execution_count": 11
        }
      ],
      "source": [
        "# Converte o array para inteiro\n",
        "np.int8(z)"
      ]
    },
    {
      "cell_type": "markdown",
      "metadata": {
        "id": "NyhnomC0ZcpU"
      },
      "source": [
        "Para verificarmos o tipo de um array Numpy, basta verificarmos o seu atributo dtype."
      ]
    },
    {
      "cell_type": "code",
      "execution_count": null,
      "metadata": {
        "id": "HCNyOzXRZcpU",
        "outputId": "424b66a0-8414-4888-a340-00fd6ebf3011",
        "colab": {
          "base_uri": "https://localhost:8080/"
        }
      },
      "outputs": [
        {
          "output_type": "execute_result",
          "data": {
            "text/plain": [
              "dtype('uint8')"
            ]
          },
          "metadata": {},
          "execution_count": 12
        }
      ],
      "source": [
        "# Verifica o tipo do array\n",
        "z.dtype"
      ]
    }
  ],
  "metadata": {
    "kernelspec": {
      "display_name": "Python 3",
      "language": "python",
      "name": "python3"
    },
    "language_info": {
      "codemirror_mode": {
        "name": "ipython",
        "version": 3
      },
      "file_extension": ".py",
      "mimetype": "text/x-python",
      "name": "python",
      "nbconvert_exporter": "python",
      "pygments_lexer": "ipython3",
      "version": "3.6.8"
    },
    "colab": {
      "provenance": [],
      "include_colab_link": true
    }
  },
  "nbformat": 4,
  "nbformat_minor": 0
}