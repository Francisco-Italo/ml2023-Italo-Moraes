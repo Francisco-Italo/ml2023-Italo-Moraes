{
  "nbformat": 4,
  "nbformat_minor": 0,
  "metadata": {
    "colab": {
      "provenance": [],
      "mount_file_id": "1SeAwQCo0Hwm0ExrPoYd1nyyXxgRcM2nd",
      "authorship_tag": "ABX9TyPBgPTOXFzltY6spWAIRT+B",
      "include_colab_link": true
    },
    "kernelspec": {
      "name": "python3",
      "display_name": "Python 3"
    },
    "language_info": {
      "name": "python"
    }
  },
  "cells": [
    {
      "cell_type": "markdown",
      "metadata": {
        "id": "view-in-github",
        "colab_type": "text"
      },
      "source": [
        "<a href=\"https://colab.research.google.com/github/Francisco-Italo/ml2023-Italo-Moraes/blob/master/Freezing-of-gait-dt/FOG_pred.ipynb\" target=\"_parent\"><img src=\"https://colab.research.google.com/assets/colab-badge.svg\" alt=\"Open In Colab\"/></a>"
      ]
    },
    {
      "cell_type": "markdown",
      "source": [
        "# O presente modelo visa identificar a probabilidade de ocorrência de um indivíduo ter manifestado um evento de congelamento da marcha - ou do andar - (FOG, do inglês \"freezing of gait\"), que são: hesitação ao iniciar uma caminhada, dificuldade em fazer uma curva, e parada brusca enquanto caminha.\n",
        "# O dataset contém os a seguintes colunas:\n",
        "\n",
        "*   Time: Timestamp do registro.\n",
        "*   AccV: valor do acelerômetro no eixo vertical.\n",
        "*   AccML: valor do acelerômetro no eixo meio-lateral.\n",
        "*   AccAP: valor do acelerômetro no eixo anteroposterior.\n",
        "*   StartHesitation: Dificuldade em começar uma caminhada.\n",
        "*   Turn: Dificuldade em fazer uma curva.\n",
        "*   Walking: Parada brusca na caminhada.\n",
        "*   Valid: Marcado como False se não há certeza da detecção do evento.\n",
        "*   Task: Anotações registradas pelos pesquisadores. \n",
        "\n"
      ],
      "metadata": {
        "id": "Y-3IhSm6cIGt"
      }
    },
    {
      "cell_type": "code",
      "execution_count": 1,
      "metadata": {
        "id": "Z7uOObgebqjp"
      },
      "outputs": [],
      "source": [
        "from sklearn.metrics import mean_squared_error, mean_absolute_error\n",
        "from sklearn.model_selection import train_test_split\n",
        "from sklearn.ensemble import RandomForestRegressor\n",
        "from sklearn.linear_model import LinearRegression\n",
        "from sklearn.preprocessing import OneHotEncoder\n",
        "from sklearn.metrics import mean_squared_error\n",
        "from sklearn.preprocessing import MinMaxScaler\n",
        "from mpl_toolkits import mplot3d\n",
        "import matplotlib.pyplot as plt\n",
        "import seaborn as sns\n",
        "import pandas as pd\n",
        "import numpy as np\n",
        "import glob\n",
        "import os"
      ]
    },
    {
      "cell_type": "markdown",
      "source": [
        "## Armazenamento de dados em dois datasets: treino e teste. Como o dataset de treino contém 3 outros subdiretórios, optou-se por retirar um subdiretório, que contém uma coluna diferente dos outros dois subdiretórios, além de conter menos atributos."
      ],
      "metadata": {
        "id": "5R0gAvyFfmAM"
      }
    },
    {
      "cell_type": "code",
      "source": [
        "def join_dfs(dir_path):\n",
        "  subfolders = [f.path for f in os.scandir(dir_path) if f.is_dir()]\n",
        "\n",
        "  dataframes = []\n",
        "  # Subdiretório que será retirado \n",
        "  black_sheep = 'notype'\n",
        "  # Neste subdiretório, os dados dos subdiretórios estão em g, por isso,\n",
        "  # será efetuada a conversão de escala, de g para m/s^2\n",
        "  need_convertion = 'defog'\n",
        "\n",
        "  for sf in subfolders:\n",
        "    if black_sheep in sf: continue\n",
        "\n",
        "    pat = os.path.join(sf, '*.csv')      \n",
        "    f_list = glob.glob(pat)\n",
        "\n",
        "    i = 0\n",
        "    for file in f_list:\n",
        "      if i == 15: break\n",
        "      \n",
        "      df = pd.read_csv(file)\n",
        "      # Conversão de g para m/s^2\n",
        "      if need_convertion in sf: df = df.applymap(lambda x: x * 9.8 if pd.api.types.is_float_dtype(x) else x)\n",
        "      dataframes.append(df)\n",
        "      i = i+1\n",
        "  \n",
        "  return dataframes"
      ],
      "metadata": {
        "id": "dG-cDp81lCgf"
      },
      "execution_count": 2,
      "outputs": []
    },
    {
      "cell_type": "code",
      "source": [
        "dir_path = '/content/drive/MyDrive/FOG-dataset/train/'\n",
        "df_train = pd.concat(join_dfs(dir_path), axis=0, ignore_index=True)\n",
        "\n",
        "dir_path = '/content/drive/MyDrive/FOG-dataset/test/'\n",
        "df_test = pd.concat(join_dfs(dir_path), axis=0, ignore_index=True)"
      ],
      "metadata": {
        "id": "kcRPXaKJfjij"
      },
      "execution_count": 3,
      "outputs": []
    },
    {
      "cell_type": "markdown",
      "source": [
        "## Análise dos dados\n",
        "\n"
      ],
      "metadata": {
        "id": "FnIogCitgi3Y"
      }
    },
    {
      "cell_type": "code",
      "source": [
        "df_train.head()"
      ],
      "metadata": {
        "id": "RLDfDtvdABkP",
        "colab": {
          "base_uri": "https://localhost:8080/",
          "height": 206
        },
        "outputId": "296cd1e4-13b7-4ca9-c732-de05f5bd19fa"
      },
      "execution_count": 4,
      "outputs": [
        {
          "output_type": "execute_result",
          "data": {
            "text/plain": [
              "   Time      AccV     AccML     AccAP  StartHesitation  Turn  Walking Valid  \\\n",
              "0     0 -8.934903 -0.045351 -3.295116                0     0        0   NaN   \n",
              "1     1 -8.921293 -0.050063 -3.304153                0     0        0   NaN   \n",
              "2     2 -8.922881 -0.040125 -3.311976                0     0        0   NaN   \n",
              "3     3 -8.933698 -0.030371 -3.313792                0     0        0   NaN   \n",
              "4     4 -8.938324 -0.023556 -3.304763                0     0        0   NaN   \n",
              "\n",
              "  Task  \n",
              "0  NaN  \n",
              "1  NaN  \n",
              "2  NaN  \n",
              "3  NaN  \n",
              "4  NaN  "
            ],
            "text/html": [
              "\n",
              "  <div id=\"df-b7040398-5c06-4413-af87-d0ba4c6fe536\">\n",
              "    <div class=\"colab-df-container\">\n",
              "      <div>\n",
              "<style scoped>\n",
              "    .dataframe tbody tr th:only-of-type {\n",
              "        vertical-align: middle;\n",
              "    }\n",
              "\n",
              "    .dataframe tbody tr th {\n",
              "        vertical-align: top;\n",
              "    }\n",
              "\n",
              "    .dataframe thead th {\n",
              "        text-align: right;\n",
              "    }\n",
              "</style>\n",
              "<table border=\"1\" class=\"dataframe\">\n",
              "  <thead>\n",
              "    <tr style=\"text-align: right;\">\n",
              "      <th></th>\n",
              "      <th>Time</th>\n",
              "      <th>AccV</th>\n",
              "      <th>AccML</th>\n",
              "      <th>AccAP</th>\n",
              "      <th>StartHesitation</th>\n",
              "      <th>Turn</th>\n",
              "      <th>Walking</th>\n",
              "      <th>Valid</th>\n",
              "      <th>Task</th>\n",
              "    </tr>\n",
              "  </thead>\n",
              "  <tbody>\n",
              "    <tr>\n",
              "      <th>0</th>\n",
              "      <td>0</td>\n",
              "      <td>-8.934903</td>\n",
              "      <td>-0.045351</td>\n",
              "      <td>-3.295116</td>\n",
              "      <td>0</td>\n",
              "      <td>0</td>\n",
              "      <td>0</td>\n",
              "      <td>NaN</td>\n",
              "      <td>NaN</td>\n",
              "    </tr>\n",
              "    <tr>\n",
              "      <th>1</th>\n",
              "      <td>1</td>\n",
              "      <td>-8.921293</td>\n",
              "      <td>-0.050063</td>\n",
              "      <td>-3.304153</td>\n",
              "      <td>0</td>\n",
              "      <td>0</td>\n",
              "      <td>0</td>\n",
              "      <td>NaN</td>\n",
              "      <td>NaN</td>\n",
              "    </tr>\n",
              "    <tr>\n",
              "      <th>2</th>\n",
              "      <td>2</td>\n",
              "      <td>-8.922881</td>\n",
              "      <td>-0.040125</td>\n",
              "      <td>-3.311976</td>\n",
              "      <td>0</td>\n",
              "      <td>0</td>\n",
              "      <td>0</td>\n",
              "      <td>NaN</td>\n",
              "      <td>NaN</td>\n",
              "    </tr>\n",
              "    <tr>\n",
              "      <th>3</th>\n",
              "      <td>3</td>\n",
              "      <td>-8.933698</td>\n",
              "      <td>-0.030371</td>\n",
              "      <td>-3.313792</td>\n",
              "      <td>0</td>\n",
              "      <td>0</td>\n",
              "      <td>0</td>\n",
              "      <td>NaN</td>\n",
              "      <td>NaN</td>\n",
              "    </tr>\n",
              "    <tr>\n",
              "      <th>4</th>\n",
              "      <td>4</td>\n",
              "      <td>-8.938324</td>\n",
              "      <td>-0.023556</td>\n",
              "      <td>-3.304763</td>\n",
              "      <td>0</td>\n",
              "      <td>0</td>\n",
              "      <td>0</td>\n",
              "      <td>NaN</td>\n",
              "      <td>NaN</td>\n",
              "    </tr>\n",
              "  </tbody>\n",
              "</table>\n",
              "</div>\n",
              "      <button class=\"colab-df-convert\" onclick=\"convertToInteractive('df-b7040398-5c06-4413-af87-d0ba4c6fe536')\"\n",
              "              title=\"Convert this dataframe to an interactive table.\"\n",
              "              style=\"display:none;\">\n",
              "        \n",
              "  <svg xmlns=\"http://www.w3.org/2000/svg\" height=\"24px\"viewBox=\"0 0 24 24\"\n",
              "       width=\"24px\">\n",
              "    <path d=\"M0 0h24v24H0V0z\" fill=\"none\"/>\n",
              "    <path d=\"M18.56 5.44l.94 2.06.94-2.06 2.06-.94-2.06-.94-.94-2.06-.94 2.06-2.06.94zm-11 1L8.5 8.5l.94-2.06 2.06-.94-2.06-.94L8.5 2.5l-.94 2.06-2.06.94zm10 10l.94 2.06.94-2.06 2.06-.94-2.06-.94-.94-2.06-.94 2.06-2.06.94z\"/><path d=\"M17.41 7.96l-1.37-1.37c-.4-.4-.92-.59-1.43-.59-.52 0-1.04.2-1.43.59L10.3 9.45l-7.72 7.72c-.78.78-.78 2.05 0 2.83L4 21.41c.39.39.9.59 1.41.59.51 0 1.02-.2 1.41-.59l7.78-7.78 2.81-2.81c.8-.78.8-2.07 0-2.86zM5.41 20L4 18.59l7.72-7.72 1.47 1.35L5.41 20z\"/>\n",
              "  </svg>\n",
              "      </button>\n",
              "      \n",
              "  <style>\n",
              "    .colab-df-container {\n",
              "      display:flex;\n",
              "      flex-wrap:wrap;\n",
              "      gap: 12px;\n",
              "    }\n",
              "\n",
              "    .colab-df-convert {\n",
              "      background-color: #E8F0FE;\n",
              "      border: none;\n",
              "      border-radius: 50%;\n",
              "      cursor: pointer;\n",
              "      display: none;\n",
              "      fill: #1967D2;\n",
              "      height: 32px;\n",
              "      padding: 0 0 0 0;\n",
              "      width: 32px;\n",
              "    }\n",
              "\n",
              "    .colab-df-convert:hover {\n",
              "      background-color: #E2EBFA;\n",
              "      box-shadow: 0px 1px 2px rgba(60, 64, 67, 0.3), 0px 1px 3px 1px rgba(60, 64, 67, 0.15);\n",
              "      fill: #174EA6;\n",
              "    }\n",
              "\n",
              "    [theme=dark] .colab-df-convert {\n",
              "      background-color: #3B4455;\n",
              "      fill: #D2E3FC;\n",
              "    }\n",
              "\n",
              "    [theme=dark] .colab-df-convert:hover {\n",
              "      background-color: #434B5C;\n",
              "      box-shadow: 0px 1px 3px 1px rgba(0, 0, 0, 0.15);\n",
              "      filter: drop-shadow(0px 1px 2px rgba(0, 0, 0, 0.3));\n",
              "      fill: #FFFFFF;\n",
              "    }\n",
              "  </style>\n",
              "\n",
              "      <script>\n",
              "        const buttonEl =\n",
              "          document.querySelector('#df-b7040398-5c06-4413-af87-d0ba4c6fe536 button.colab-df-convert');\n",
              "        buttonEl.style.display =\n",
              "          google.colab.kernel.accessAllowed ? 'block' : 'none';\n",
              "\n",
              "        async function convertToInteractive(key) {\n",
              "          const element = document.querySelector('#df-b7040398-5c06-4413-af87-d0ba4c6fe536');\n",
              "          const dataTable =\n",
              "            await google.colab.kernel.invokeFunction('convertToInteractive',\n",
              "                                                     [key], {});\n",
              "          if (!dataTable) return;\n",
              "\n",
              "          const docLinkHtml = 'Like what you see? Visit the ' +\n",
              "            '<a target=\"_blank\" href=https://colab.research.google.com/notebooks/data_table.ipynb>data table notebook</a>'\n",
              "            + ' to learn more about interactive tables.';\n",
              "          element.innerHTML = '';\n",
              "          dataTable['output_type'] = 'display_data';\n",
              "          await google.colab.output.renderOutput(dataTable, element);\n",
              "          const docLink = document.createElement('div');\n",
              "          docLink.innerHTML = docLinkHtml;\n",
              "          element.appendChild(docLink);\n",
              "        }\n",
              "      </script>\n",
              "    </div>\n",
              "  </div>\n",
              "  "
            ]
          },
          "metadata": {},
          "execution_count": 4
        }
      ]
    },
    {
      "cell_type": "code",
      "source": [
        "df_test.head()"
      ],
      "metadata": {
        "id": "HvzryM9IAGCP",
        "colab": {
          "base_uri": "https://localhost:8080/",
          "height": 206
        },
        "outputId": "4977e0d8-d31c-4e94-afe6-d82ce46f0fe5"
      },
      "execution_count": 5,
      "outputs": [
        {
          "output_type": "execute_result",
          "data": {
            "text/plain": [
              "   Time      AccV     AccML     AccAP\n",
              "0     0 -9.533939  0.566322 -1.413525\n",
              "1     1 -9.536140  0.564137 -1.440621\n",
              "2     2 -9.529345  0.561765 -1.429332\n",
              "3     3 -9.531239  0.564227 -1.415490\n",
              "4     4 -9.540825  0.561854 -1.429471"
            ],
            "text/html": [
              "\n",
              "  <div id=\"df-ac9ea88d-7b33-4565-a413-33a9a7f64f21\">\n",
              "    <div class=\"colab-df-container\">\n",
              "      <div>\n",
              "<style scoped>\n",
              "    .dataframe tbody tr th:only-of-type {\n",
              "        vertical-align: middle;\n",
              "    }\n",
              "\n",
              "    .dataframe tbody tr th {\n",
              "        vertical-align: top;\n",
              "    }\n",
              "\n",
              "    .dataframe thead th {\n",
              "        text-align: right;\n",
              "    }\n",
              "</style>\n",
              "<table border=\"1\" class=\"dataframe\">\n",
              "  <thead>\n",
              "    <tr style=\"text-align: right;\">\n",
              "      <th></th>\n",
              "      <th>Time</th>\n",
              "      <th>AccV</th>\n",
              "      <th>AccML</th>\n",
              "      <th>AccAP</th>\n",
              "    </tr>\n",
              "  </thead>\n",
              "  <tbody>\n",
              "    <tr>\n",
              "      <th>0</th>\n",
              "      <td>0</td>\n",
              "      <td>-9.533939</td>\n",
              "      <td>0.566322</td>\n",
              "      <td>-1.413525</td>\n",
              "    </tr>\n",
              "    <tr>\n",
              "      <th>1</th>\n",
              "      <td>1</td>\n",
              "      <td>-9.536140</td>\n",
              "      <td>0.564137</td>\n",
              "      <td>-1.440621</td>\n",
              "    </tr>\n",
              "    <tr>\n",
              "      <th>2</th>\n",
              "      <td>2</td>\n",
              "      <td>-9.529345</td>\n",
              "      <td>0.561765</td>\n",
              "      <td>-1.429332</td>\n",
              "    </tr>\n",
              "    <tr>\n",
              "      <th>3</th>\n",
              "      <td>3</td>\n",
              "      <td>-9.531239</td>\n",
              "      <td>0.564227</td>\n",
              "      <td>-1.415490</td>\n",
              "    </tr>\n",
              "    <tr>\n",
              "      <th>4</th>\n",
              "      <td>4</td>\n",
              "      <td>-9.540825</td>\n",
              "      <td>0.561854</td>\n",
              "      <td>-1.429471</td>\n",
              "    </tr>\n",
              "  </tbody>\n",
              "</table>\n",
              "</div>\n",
              "      <button class=\"colab-df-convert\" onclick=\"convertToInteractive('df-ac9ea88d-7b33-4565-a413-33a9a7f64f21')\"\n",
              "              title=\"Convert this dataframe to an interactive table.\"\n",
              "              style=\"display:none;\">\n",
              "        \n",
              "  <svg xmlns=\"http://www.w3.org/2000/svg\" height=\"24px\"viewBox=\"0 0 24 24\"\n",
              "       width=\"24px\">\n",
              "    <path d=\"M0 0h24v24H0V0z\" fill=\"none\"/>\n",
              "    <path d=\"M18.56 5.44l.94 2.06.94-2.06 2.06-.94-2.06-.94-.94-2.06-.94 2.06-2.06.94zm-11 1L8.5 8.5l.94-2.06 2.06-.94-2.06-.94L8.5 2.5l-.94 2.06-2.06.94zm10 10l.94 2.06.94-2.06 2.06-.94-2.06-.94-.94-2.06-.94 2.06-2.06.94z\"/><path d=\"M17.41 7.96l-1.37-1.37c-.4-.4-.92-.59-1.43-.59-.52 0-1.04.2-1.43.59L10.3 9.45l-7.72 7.72c-.78.78-.78 2.05 0 2.83L4 21.41c.39.39.9.59 1.41.59.51 0 1.02-.2 1.41-.59l7.78-7.78 2.81-2.81c.8-.78.8-2.07 0-2.86zM5.41 20L4 18.59l7.72-7.72 1.47 1.35L5.41 20z\"/>\n",
              "  </svg>\n",
              "      </button>\n",
              "      \n",
              "  <style>\n",
              "    .colab-df-container {\n",
              "      display:flex;\n",
              "      flex-wrap:wrap;\n",
              "      gap: 12px;\n",
              "    }\n",
              "\n",
              "    .colab-df-convert {\n",
              "      background-color: #E8F0FE;\n",
              "      border: none;\n",
              "      border-radius: 50%;\n",
              "      cursor: pointer;\n",
              "      display: none;\n",
              "      fill: #1967D2;\n",
              "      height: 32px;\n",
              "      padding: 0 0 0 0;\n",
              "      width: 32px;\n",
              "    }\n",
              "\n",
              "    .colab-df-convert:hover {\n",
              "      background-color: #E2EBFA;\n",
              "      box-shadow: 0px 1px 2px rgba(60, 64, 67, 0.3), 0px 1px 3px 1px rgba(60, 64, 67, 0.15);\n",
              "      fill: #174EA6;\n",
              "    }\n",
              "\n",
              "    [theme=dark] .colab-df-convert {\n",
              "      background-color: #3B4455;\n",
              "      fill: #D2E3FC;\n",
              "    }\n",
              "\n",
              "    [theme=dark] .colab-df-convert:hover {\n",
              "      background-color: #434B5C;\n",
              "      box-shadow: 0px 1px 3px 1px rgba(0, 0, 0, 0.15);\n",
              "      filter: drop-shadow(0px 1px 2px rgba(0, 0, 0, 0.3));\n",
              "      fill: #FFFFFF;\n",
              "    }\n",
              "  </style>\n",
              "\n",
              "      <script>\n",
              "        const buttonEl =\n",
              "          document.querySelector('#df-ac9ea88d-7b33-4565-a413-33a9a7f64f21 button.colab-df-convert');\n",
              "        buttonEl.style.display =\n",
              "          google.colab.kernel.accessAllowed ? 'block' : 'none';\n",
              "\n",
              "        async function convertToInteractive(key) {\n",
              "          const element = document.querySelector('#df-ac9ea88d-7b33-4565-a413-33a9a7f64f21');\n",
              "          const dataTable =\n",
              "            await google.colab.kernel.invokeFunction('convertToInteractive',\n",
              "                                                     [key], {});\n",
              "          if (!dataTable) return;\n",
              "\n",
              "          const docLinkHtml = 'Like what you see? Visit the ' +\n",
              "            '<a target=\"_blank\" href=https://colab.research.google.com/notebooks/data_table.ipynb>data table notebook</a>'\n",
              "            + ' to learn more about interactive tables.';\n",
              "          element.innerHTML = '';\n",
              "          dataTable['output_type'] = 'display_data';\n",
              "          await google.colab.output.renderOutput(dataTable, element);\n",
              "          const docLink = document.createElement('div');\n",
              "          docLink.innerHTML = docLinkHtml;\n",
              "          element.appendChild(docLink);\n",
              "        }\n",
              "      </script>\n",
              "    </div>\n",
              "  </div>\n",
              "  "
            ]
          },
          "metadata": {},
          "execution_count": 5
        }
      ]
    },
    {
      "cell_type": "markdown",
      "source": [
        "## Bateria de verificações:\n",
        "\n",
        "\n",
        "1.   Formato do dataset\n",
        "2.   Informações dos dados do dataset\n",
        "3.   Colunas do dataset\n",
        "4.   Tipos dos dados por coluna\n",
        "5.   Contagem de dados faltantes\n",
        "6.   Contagem de valores assinalados como verdadeiro e falso (apenas colunas Valid e Task)\n",
        "\n",
        "## Ambas verificações valem para treino e teste\n"
      ],
      "metadata": {
        "id": "Mdt9CdyMimG9"
      }
    },
    {
      "cell_type": "code",
      "source": [
        "print(f\"DataFrame shape : {df_train.shape}\\n=================================\")\n",
        "print(f\"DataFrame info : {df_train.info()}\\n=================================\")\n",
        "print(f\"DataFrame columns : {df_train.columns}\\n=================================\")\n",
        "print(f\"The type of each column : {df_train.dtypes}\\n=================================\")\n",
        "print(f\"How much missing value in every column : {df_train.isna().sum()}\\n=================================\")\n",
        "print(f\"True counts : {(df_train[['Valid','Task']] == True).sum()}\\n=================================\")\n",
        "print(f\"False counts : {(df_train[['Valid','Task']] == False).sum()}\\n=================================\")"
      ],
      "metadata": {
        "id": "I2EHy9xzL-iR",
        "colab": {
          "base_uri": "https://localhost:8080/"
        },
        "outputId": "3ee6eda4-65c2-4ca6-bad9-ed3c16c01bc2"
      },
      "execution_count": 6,
      "outputs": [
        {
          "output_type": "stream",
          "name": "stdout",
          "text": [
            "DataFrame shape : (2345378, 9)\n",
            "=================================\n",
            "<class 'pandas.core.frame.DataFrame'>\n",
            "RangeIndex: 2345378 entries, 0 to 2345377\n",
            "Data columns (total 9 columns):\n",
            " #   Column           Dtype  \n",
            "---  ------           -----  \n",
            " 0   Time             int64  \n",
            " 1   AccV             float64\n",
            " 2   AccML            float64\n",
            " 3   AccAP            float64\n",
            " 4   StartHesitation  int64  \n",
            " 5   Turn             int64  \n",
            " 6   Walking          int64  \n",
            " 7   Valid            object \n",
            " 8   Task             object \n",
            "dtypes: float64(3), int64(4), object(2)\n",
            "memory usage: 161.0+ MB\n",
            "DataFrame info : None\n",
            "=================================\n",
            "DataFrame columns : Index(['Time', 'AccV', 'AccML', 'AccAP', 'StartHesitation', 'Turn', 'Walking',\n",
            "       'Valid', 'Task'],\n",
            "      dtype='object')\n",
            "=================================\n",
            "The type of each column : Time                 int64\n",
            "AccV               float64\n",
            "AccML              float64\n",
            "AccAP              float64\n",
            "StartHesitation      int64\n",
            "Turn                 int64\n",
            "Walking              int64\n",
            "Valid               object\n",
            "Task                object\n",
            "dtype: object\n",
            "=================================\n",
            "How much missing value in every column : Time                    0\n",
            "AccV                    0\n",
            "AccML                   0\n",
            "AccAP                   0\n",
            "StartHesitation         0\n",
            "Turn                    0\n",
            "Walking                 0\n",
            "Valid              103148\n",
            "Task               103148\n",
            "dtype: int64\n",
            "=================================\n",
            "True counts : Valid    645774\n",
            "Task     656438\n",
            "dtype: int64\n",
            "=================================\n",
            "False counts : Valid    1596456\n",
            "Task     1585792\n",
            "dtype: int64\n",
            "=================================\n"
          ]
        }
      ]
    },
    {
      "cell_type": "markdown",
      "source": [
        "### Mudança das colunas do tipo 'object' para 'bool'"
      ],
      "metadata": {
        "id": "1TgYGH4Ik9p4"
      }
    },
    {
      "cell_type": "code",
      "source": [
        "df_train.replace({'false':False,'true':True})\n",
        "df_train.fillna(True)"
      ],
      "metadata": {
        "id": "B4vDjUHMSWgd",
        "colab": {
          "base_uri": "https://localhost:8080/",
          "height": 424
        },
        "outputId": "b8fcffa8-4fe4-497d-95e9-cb5a0fd7ca51"
      },
      "execution_count": 7,
      "outputs": [
        {
          "output_type": "execute_result",
          "data": {
            "text/plain": [
              "           Time      AccV     AccML     AccAP  StartHesitation  Turn  Walking  \\\n",
              "0             0 -8.934903 -0.045351 -3.295116                0     0        0   \n",
              "1             1 -8.921293 -0.050063 -3.304153                0     0        0   \n",
              "2             2 -8.922881 -0.040125 -3.311976                0     0        0   \n",
              "3             3 -8.933698 -0.030371 -3.313792                0     0        0   \n",
              "4             4 -8.938324 -0.023556 -3.304763                0     0        0   \n",
              "...         ...       ...       ...       ...              ...   ...      ...   \n",
              "2345373  192651 -0.943479 -0.169817 -0.288977                0     0        0   \n",
              "2345374  192652 -0.943467 -0.155179 -0.282620                0     0        0   \n",
              "2345375  192653 -0.938662 -0.141621 -0.275849                0     0        0   \n",
              "2345376  192654 -0.931365 -0.136427 -0.272348                0     0        0   \n",
              "2345377  192655 -0.924992 -0.132829 -0.267664                0     0        0   \n",
              "\n",
              "         Valid   Task  \n",
              "0         True   True  \n",
              "1         True   True  \n",
              "2         True   True  \n",
              "3         True   True  \n",
              "4         True   True  \n",
              "...        ...    ...  \n",
              "2345373  False  False  \n",
              "2345374  False  False  \n",
              "2345375  False  False  \n",
              "2345376  False  False  \n",
              "2345377  False  False  \n",
              "\n",
              "[2345378 rows x 9 columns]"
            ],
            "text/html": [
              "\n",
              "  <div id=\"df-fb9a4d19-b392-4ef9-8d72-cabcee030c22\">\n",
              "    <div class=\"colab-df-container\">\n",
              "      <div>\n",
              "<style scoped>\n",
              "    .dataframe tbody tr th:only-of-type {\n",
              "        vertical-align: middle;\n",
              "    }\n",
              "\n",
              "    .dataframe tbody tr th {\n",
              "        vertical-align: top;\n",
              "    }\n",
              "\n",
              "    .dataframe thead th {\n",
              "        text-align: right;\n",
              "    }\n",
              "</style>\n",
              "<table border=\"1\" class=\"dataframe\">\n",
              "  <thead>\n",
              "    <tr style=\"text-align: right;\">\n",
              "      <th></th>\n",
              "      <th>Time</th>\n",
              "      <th>AccV</th>\n",
              "      <th>AccML</th>\n",
              "      <th>AccAP</th>\n",
              "      <th>StartHesitation</th>\n",
              "      <th>Turn</th>\n",
              "      <th>Walking</th>\n",
              "      <th>Valid</th>\n",
              "      <th>Task</th>\n",
              "    </tr>\n",
              "  </thead>\n",
              "  <tbody>\n",
              "    <tr>\n",
              "      <th>0</th>\n",
              "      <td>0</td>\n",
              "      <td>-8.934903</td>\n",
              "      <td>-0.045351</td>\n",
              "      <td>-3.295116</td>\n",
              "      <td>0</td>\n",
              "      <td>0</td>\n",
              "      <td>0</td>\n",
              "      <td>True</td>\n",
              "      <td>True</td>\n",
              "    </tr>\n",
              "    <tr>\n",
              "      <th>1</th>\n",
              "      <td>1</td>\n",
              "      <td>-8.921293</td>\n",
              "      <td>-0.050063</td>\n",
              "      <td>-3.304153</td>\n",
              "      <td>0</td>\n",
              "      <td>0</td>\n",
              "      <td>0</td>\n",
              "      <td>True</td>\n",
              "      <td>True</td>\n",
              "    </tr>\n",
              "    <tr>\n",
              "      <th>2</th>\n",
              "      <td>2</td>\n",
              "      <td>-8.922881</td>\n",
              "      <td>-0.040125</td>\n",
              "      <td>-3.311976</td>\n",
              "      <td>0</td>\n",
              "      <td>0</td>\n",
              "      <td>0</td>\n",
              "      <td>True</td>\n",
              "      <td>True</td>\n",
              "    </tr>\n",
              "    <tr>\n",
              "      <th>3</th>\n",
              "      <td>3</td>\n",
              "      <td>-8.933698</td>\n",
              "      <td>-0.030371</td>\n",
              "      <td>-3.313792</td>\n",
              "      <td>0</td>\n",
              "      <td>0</td>\n",
              "      <td>0</td>\n",
              "      <td>True</td>\n",
              "      <td>True</td>\n",
              "    </tr>\n",
              "    <tr>\n",
              "      <th>4</th>\n",
              "      <td>4</td>\n",
              "      <td>-8.938324</td>\n",
              "      <td>-0.023556</td>\n",
              "      <td>-3.304763</td>\n",
              "      <td>0</td>\n",
              "      <td>0</td>\n",
              "      <td>0</td>\n",
              "      <td>True</td>\n",
              "      <td>True</td>\n",
              "    </tr>\n",
              "    <tr>\n",
              "      <th>...</th>\n",
              "      <td>...</td>\n",
              "      <td>...</td>\n",
              "      <td>...</td>\n",
              "      <td>...</td>\n",
              "      <td>...</td>\n",
              "      <td>...</td>\n",
              "      <td>...</td>\n",
              "      <td>...</td>\n",
              "      <td>...</td>\n",
              "    </tr>\n",
              "    <tr>\n",
              "      <th>2345373</th>\n",
              "      <td>192651</td>\n",
              "      <td>-0.943479</td>\n",
              "      <td>-0.169817</td>\n",
              "      <td>-0.288977</td>\n",
              "      <td>0</td>\n",
              "      <td>0</td>\n",
              "      <td>0</td>\n",
              "      <td>False</td>\n",
              "      <td>False</td>\n",
              "    </tr>\n",
              "    <tr>\n",
              "      <th>2345374</th>\n",
              "      <td>192652</td>\n",
              "      <td>-0.943467</td>\n",
              "      <td>-0.155179</td>\n",
              "      <td>-0.282620</td>\n",
              "      <td>0</td>\n",
              "      <td>0</td>\n",
              "      <td>0</td>\n",
              "      <td>False</td>\n",
              "      <td>False</td>\n",
              "    </tr>\n",
              "    <tr>\n",
              "      <th>2345375</th>\n",
              "      <td>192653</td>\n",
              "      <td>-0.938662</td>\n",
              "      <td>-0.141621</td>\n",
              "      <td>-0.275849</td>\n",
              "      <td>0</td>\n",
              "      <td>0</td>\n",
              "      <td>0</td>\n",
              "      <td>False</td>\n",
              "      <td>False</td>\n",
              "    </tr>\n",
              "    <tr>\n",
              "      <th>2345376</th>\n",
              "      <td>192654</td>\n",
              "      <td>-0.931365</td>\n",
              "      <td>-0.136427</td>\n",
              "      <td>-0.272348</td>\n",
              "      <td>0</td>\n",
              "      <td>0</td>\n",
              "      <td>0</td>\n",
              "      <td>False</td>\n",
              "      <td>False</td>\n",
              "    </tr>\n",
              "    <tr>\n",
              "      <th>2345377</th>\n",
              "      <td>192655</td>\n",
              "      <td>-0.924992</td>\n",
              "      <td>-0.132829</td>\n",
              "      <td>-0.267664</td>\n",
              "      <td>0</td>\n",
              "      <td>0</td>\n",
              "      <td>0</td>\n",
              "      <td>False</td>\n",
              "      <td>False</td>\n",
              "    </tr>\n",
              "  </tbody>\n",
              "</table>\n",
              "<p>2345378 rows × 9 columns</p>\n",
              "</div>\n",
              "      <button class=\"colab-df-convert\" onclick=\"convertToInteractive('df-fb9a4d19-b392-4ef9-8d72-cabcee030c22')\"\n",
              "              title=\"Convert this dataframe to an interactive table.\"\n",
              "              style=\"display:none;\">\n",
              "        \n",
              "  <svg xmlns=\"http://www.w3.org/2000/svg\" height=\"24px\"viewBox=\"0 0 24 24\"\n",
              "       width=\"24px\">\n",
              "    <path d=\"M0 0h24v24H0V0z\" fill=\"none\"/>\n",
              "    <path d=\"M18.56 5.44l.94 2.06.94-2.06 2.06-.94-2.06-.94-.94-2.06-.94 2.06-2.06.94zm-11 1L8.5 8.5l.94-2.06 2.06-.94-2.06-.94L8.5 2.5l-.94 2.06-2.06.94zm10 10l.94 2.06.94-2.06 2.06-.94-2.06-.94-.94-2.06-.94 2.06-2.06.94z\"/><path d=\"M17.41 7.96l-1.37-1.37c-.4-.4-.92-.59-1.43-.59-.52 0-1.04.2-1.43.59L10.3 9.45l-7.72 7.72c-.78.78-.78 2.05 0 2.83L4 21.41c.39.39.9.59 1.41.59.51 0 1.02-.2 1.41-.59l7.78-7.78 2.81-2.81c.8-.78.8-2.07 0-2.86zM5.41 20L4 18.59l7.72-7.72 1.47 1.35L5.41 20z\"/>\n",
              "  </svg>\n",
              "      </button>\n",
              "      \n",
              "  <style>\n",
              "    .colab-df-container {\n",
              "      display:flex;\n",
              "      flex-wrap:wrap;\n",
              "      gap: 12px;\n",
              "    }\n",
              "\n",
              "    .colab-df-convert {\n",
              "      background-color: #E8F0FE;\n",
              "      border: none;\n",
              "      border-radius: 50%;\n",
              "      cursor: pointer;\n",
              "      display: none;\n",
              "      fill: #1967D2;\n",
              "      height: 32px;\n",
              "      padding: 0 0 0 0;\n",
              "      width: 32px;\n",
              "    }\n",
              "\n",
              "    .colab-df-convert:hover {\n",
              "      background-color: #E2EBFA;\n",
              "      box-shadow: 0px 1px 2px rgba(60, 64, 67, 0.3), 0px 1px 3px 1px rgba(60, 64, 67, 0.15);\n",
              "      fill: #174EA6;\n",
              "    }\n",
              "\n",
              "    [theme=dark] .colab-df-convert {\n",
              "      background-color: #3B4455;\n",
              "      fill: #D2E3FC;\n",
              "    }\n",
              "\n",
              "    [theme=dark] .colab-df-convert:hover {\n",
              "      background-color: #434B5C;\n",
              "      box-shadow: 0px 1px 3px 1px rgba(0, 0, 0, 0.15);\n",
              "      filter: drop-shadow(0px 1px 2px rgba(0, 0, 0, 0.3));\n",
              "      fill: #FFFFFF;\n",
              "    }\n",
              "  </style>\n",
              "\n",
              "      <script>\n",
              "        const buttonEl =\n",
              "          document.querySelector('#df-fb9a4d19-b392-4ef9-8d72-cabcee030c22 button.colab-df-convert');\n",
              "        buttonEl.style.display =\n",
              "          google.colab.kernel.accessAllowed ? 'block' : 'none';\n",
              "\n",
              "        async function convertToInteractive(key) {\n",
              "          const element = document.querySelector('#df-fb9a4d19-b392-4ef9-8d72-cabcee030c22');\n",
              "          const dataTable =\n",
              "            await google.colab.kernel.invokeFunction('convertToInteractive',\n",
              "                                                     [key], {});\n",
              "          if (!dataTable) return;\n",
              "\n",
              "          const docLinkHtml = 'Like what you see? Visit the ' +\n",
              "            '<a target=\"_blank\" href=https://colab.research.google.com/notebooks/data_table.ipynb>data table notebook</a>'\n",
              "            + ' to learn more about interactive tables.';\n",
              "          element.innerHTML = '';\n",
              "          dataTable['output_type'] = 'display_data';\n",
              "          await google.colab.output.renderOutput(dataTable, element);\n",
              "          const docLink = document.createElement('div');\n",
              "          docLink.innerHTML = docLinkHtml;\n",
              "          element.appendChild(docLink);\n",
              "        }\n",
              "      </script>\n",
              "    </div>\n",
              "  </div>\n",
              "  "
            ]
          },
          "metadata": {},
          "execution_count": 7
        }
      ]
    },
    {
      "cell_type": "code",
      "source": [
        "df_train['Valid'] = df_train['Valid'].astype(bool)\n",
        "df_train['Task'] = df_train['Task'].astype(bool)"
      ],
      "metadata": {
        "id": "QW3aUp4YUKu7"
      },
      "execution_count": 8,
      "outputs": []
    },
    {
      "cell_type": "code",
      "source": [
        "df_train"
      ],
      "metadata": {
        "id": "7yYm2rTqU_ue",
        "colab": {
          "base_uri": "https://localhost:8080/",
          "height": 424
        },
        "outputId": "d4c93fb7-7424-4099-ab93-c7e35d2711f8"
      },
      "execution_count": 9,
      "outputs": [
        {
          "output_type": "execute_result",
          "data": {
            "text/plain": [
              "           Time      AccV     AccML     AccAP  StartHesitation  Turn  Walking  \\\n",
              "0             0 -8.934903 -0.045351 -3.295116                0     0        0   \n",
              "1             1 -8.921293 -0.050063 -3.304153                0     0        0   \n",
              "2             2 -8.922881 -0.040125 -3.311976                0     0        0   \n",
              "3             3 -8.933698 -0.030371 -3.313792                0     0        0   \n",
              "4             4 -8.938324 -0.023556 -3.304763                0     0        0   \n",
              "...         ...       ...       ...       ...              ...   ...      ...   \n",
              "2345373  192651 -0.943479 -0.169817 -0.288977                0     0        0   \n",
              "2345374  192652 -0.943467 -0.155179 -0.282620                0     0        0   \n",
              "2345375  192653 -0.938662 -0.141621 -0.275849                0     0        0   \n",
              "2345376  192654 -0.931365 -0.136427 -0.272348                0     0        0   \n",
              "2345377  192655 -0.924992 -0.132829 -0.267664                0     0        0   \n",
              "\n",
              "         Valid   Task  \n",
              "0         True   True  \n",
              "1         True   True  \n",
              "2         True   True  \n",
              "3         True   True  \n",
              "4         True   True  \n",
              "...        ...    ...  \n",
              "2345373  False  False  \n",
              "2345374  False  False  \n",
              "2345375  False  False  \n",
              "2345376  False  False  \n",
              "2345377  False  False  \n",
              "\n",
              "[2345378 rows x 9 columns]"
            ],
            "text/html": [
              "\n",
              "  <div id=\"df-64c6797e-32ab-4f87-b5f9-de979d410119\">\n",
              "    <div class=\"colab-df-container\">\n",
              "      <div>\n",
              "<style scoped>\n",
              "    .dataframe tbody tr th:only-of-type {\n",
              "        vertical-align: middle;\n",
              "    }\n",
              "\n",
              "    .dataframe tbody tr th {\n",
              "        vertical-align: top;\n",
              "    }\n",
              "\n",
              "    .dataframe thead th {\n",
              "        text-align: right;\n",
              "    }\n",
              "</style>\n",
              "<table border=\"1\" class=\"dataframe\">\n",
              "  <thead>\n",
              "    <tr style=\"text-align: right;\">\n",
              "      <th></th>\n",
              "      <th>Time</th>\n",
              "      <th>AccV</th>\n",
              "      <th>AccML</th>\n",
              "      <th>AccAP</th>\n",
              "      <th>StartHesitation</th>\n",
              "      <th>Turn</th>\n",
              "      <th>Walking</th>\n",
              "      <th>Valid</th>\n",
              "      <th>Task</th>\n",
              "    </tr>\n",
              "  </thead>\n",
              "  <tbody>\n",
              "    <tr>\n",
              "      <th>0</th>\n",
              "      <td>0</td>\n",
              "      <td>-8.934903</td>\n",
              "      <td>-0.045351</td>\n",
              "      <td>-3.295116</td>\n",
              "      <td>0</td>\n",
              "      <td>0</td>\n",
              "      <td>0</td>\n",
              "      <td>True</td>\n",
              "      <td>True</td>\n",
              "    </tr>\n",
              "    <tr>\n",
              "      <th>1</th>\n",
              "      <td>1</td>\n",
              "      <td>-8.921293</td>\n",
              "      <td>-0.050063</td>\n",
              "      <td>-3.304153</td>\n",
              "      <td>0</td>\n",
              "      <td>0</td>\n",
              "      <td>0</td>\n",
              "      <td>True</td>\n",
              "      <td>True</td>\n",
              "    </tr>\n",
              "    <tr>\n",
              "      <th>2</th>\n",
              "      <td>2</td>\n",
              "      <td>-8.922881</td>\n",
              "      <td>-0.040125</td>\n",
              "      <td>-3.311976</td>\n",
              "      <td>0</td>\n",
              "      <td>0</td>\n",
              "      <td>0</td>\n",
              "      <td>True</td>\n",
              "      <td>True</td>\n",
              "    </tr>\n",
              "    <tr>\n",
              "      <th>3</th>\n",
              "      <td>3</td>\n",
              "      <td>-8.933698</td>\n",
              "      <td>-0.030371</td>\n",
              "      <td>-3.313792</td>\n",
              "      <td>0</td>\n",
              "      <td>0</td>\n",
              "      <td>0</td>\n",
              "      <td>True</td>\n",
              "      <td>True</td>\n",
              "    </tr>\n",
              "    <tr>\n",
              "      <th>4</th>\n",
              "      <td>4</td>\n",
              "      <td>-8.938324</td>\n",
              "      <td>-0.023556</td>\n",
              "      <td>-3.304763</td>\n",
              "      <td>0</td>\n",
              "      <td>0</td>\n",
              "      <td>0</td>\n",
              "      <td>True</td>\n",
              "      <td>True</td>\n",
              "    </tr>\n",
              "    <tr>\n",
              "      <th>...</th>\n",
              "      <td>...</td>\n",
              "      <td>...</td>\n",
              "      <td>...</td>\n",
              "      <td>...</td>\n",
              "      <td>...</td>\n",
              "      <td>...</td>\n",
              "      <td>...</td>\n",
              "      <td>...</td>\n",
              "      <td>...</td>\n",
              "    </tr>\n",
              "    <tr>\n",
              "      <th>2345373</th>\n",
              "      <td>192651</td>\n",
              "      <td>-0.943479</td>\n",
              "      <td>-0.169817</td>\n",
              "      <td>-0.288977</td>\n",
              "      <td>0</td>\n",
              "      <td>0</td>\n",
              "      <td>0</td>\n",
              "      <td>False</td>\n",
              "      <td>False</td>\n",
              "    </tr>\n",
              "    <tr>\n",
              "      <th>2345374</th>\n",
              "      <td>192652</td>\n",
              "      <td>-0.943467</td>\n",
              "      <td>-0.155179</td>\n",
              "      <td>-0.282620</td>\n",
              "      <td>0</td>\n",
              "      <td>0</td>\n",
              "      <td>0</td>\n",
              "      <td>False</td>\n",
              "      <td>False</td>\n",
              "    </tr>\n",
              "    <tr>\n",
              "      <th>2345375</th>\n",
              "      <td>192653</td>\n",
              "      <td>-0.938662</td>\n",
              "      <td>-0.141621</td>\n",
              "      <td>-0.275849</td>\n",
              "      <td>0</td>\n",
              "      <td>0</td>\n",
              "      <td>0</td>\n",
              "      <td>False</td>\n",
              "      <td>False</td>\n",
              "    </tr>\n",
              "    <tr>\n",
              "      <th>2345376</th>\n",
              "      <td>192654</td>\n",
              "      <td>-0.931365</td>\n",
              "      <td>-0.136427</td>\n",
              "      <td>-0.272348</td>\n",
              "      <td>0</td>\n",
              "      <td>0</td>\n",
              "      <td>0</td>\n",
              "      <td>False</td>\n",
              "      <td>False</td>\n",
              "    </tr>\n",
              "    <tr>\n",
              "      <th>2345377</th>\n",
              "      <td>192655</td>\n",
              "      <td>-0.924992</td>\n",
              "      <td>-0.132829</td>\n",
              "      <td>-0.267664</td>\n",
              "      <td>0</td>\n",
              "      <td>0</td>\n",
              "      <td>0</td>\n",
              "      <td>False</td>\n",
              "      <td>False</td>\n",
              "    </tr>\n",
              "  </tbody>\n",
              "</table>\n",
              "<p>2345378 rows × 9 columns</p>\n",
              "</div>\n",
              "      <button class=\"colab-df-convert\" onclick=\"convertToInteractive('df-64c6797e-32ab-4f87-b5f9-de979d410119')\"\n",
              "              title=\"Convert this dataframe to an interactive table.\"\n",
              "              style=\"display:none;\">\n",
              "        \n",
              "  <svg xmlns=\"http://www.w3.org/2000/svg\" height=\"24px\"viewBox=\"0 0 24 24\"\n",
              "       width=\"24px\">\n",
              "    <path d=\"M0 0h24v24H0V0z\" fill=\"none\"/>\n",
              "    <path d=\"M18.56 5.44l.94 2.06.94-2.06 2.06-.94-2.06-.94-.94-2.06-.94 2.06-2.06.94zm-11 1L8.5 8.5l.94-2.06 2.06-.94-2.06-.94L8.5 2.5l-.94 2.06-2.06.94zm10 10l.94 2.06.94-2.06 2.06-.94-2.06-.94-.94-2.06-.94 2.06-2.06.94z\"/><path d=\"M17.41 7.96l-1.37-1.37c-.4-.4-.92-.59-1.43-.59-.52 0-1.04.2-1.43.59L10.3 9.45l-7.72 7.72c-.78.78-.78 2.05 0 2.83L4 21.41c.39.39.9.59 1.41.59.51 0 1.02-.2 1.41-.59l7.78-7.78 2.81-2.81c.8-.78.8-2.07 0-2.86zM5.41 20L4 18.59l7.72-7.72 1.47 1.35L5.41 20z\"/>\n",
              "  </svg>\n",
              "      </button>\n",
              "      \n",
              "  <style>\n",
              "    .colab-df-container {\n",
              "      display:flex;\n",
              "      flex-wrap:wrap;\n",
              "      gap: 12px;\n",
              "    }\n",
              "\n",
              "    .colab-df-convert {\n",
              "      background-color: #E8F0FE;\n",
              "      border: none;\n",
              "      border-radius: 50%;\n",
              "      cursor: pointer;\n",
              "      display: none;\n",
              "      fill: #1967D2;\n",
              "      height: 32px;\n",
              "      padding: 0 0 0 0;\n",
              "      width: 32px;\n",
              "    }\n",
              "\n",
              "    .colab-df-convert:hover {\n",
              "      background-color: #E2EBFA;\n",
              "      box-shadow: 0px 1px 2px rgba(60, 64, 67, 0.3), 0px 1px 3px 1px rgba(60, 64, 67, 0.15);\n",
              "      fill: #174EA6;\n",
              "    }\n",
              "\n",
              "    [theme=dark] .colab-df-convert {\n",
              "      background-color: #3B4455;\n",
              "      fill: #D2E3FC;\n",
              "    }\n",
              "\n",
              "    [theme=dark] .colab-df-convert:hover {\n",
              "      background-color: #434B5C;\n",
              "      box-shadow: 0px 1px 3px 1px rgba(0, 0, 0, 0.15);\n",
              "      filter: drop-shadow(0px 1px 2px rgba(0, 0, 0, 0.3));\n",
              "      fill: #FFFFFF;\n",
              "    }\n",
              "  </style>\n",
              "\n",
              "      <script>\n",
              "        const buttonEl =\n",
              "          document.querySelector('#df-64c6797e-32ab-4f87-b5f9-de979d410119 button.colab-df-convert');\n",
              "        buttonEl.style.display =\n",
              "          google.colab.kernel.accessAllowed ? 'block' : 'none';\n",
              "\n",
              "        async function convertToInteractive(key) {\n",
              "          const element = document.querySelector('#df-64c6797e-32ab-4f87-b5f9-de979d410119');\n",
              "          const dataTable =\n",
              "            await google.colab.kernel.invokeFunction('convertToInteractive',\n",
              "                                                     [key], {});\n",
              "          if (!dataTable) return;\n",
              "\n",
              "          const docLinkHtml = 'Like what you see? Visit the ' +\n",
              "            '<a target=\"_blank\" href=https://colab.research.google.com/notebooks/data_table.ipynb>data table notebook</a>'\n",
              "            + ' to learn more about interactive tables.';\n",
              "          element.innerHTML = '';\n",
              "          dataTable['output_type'] = 'display_data';\n",
              "          await google.colab.output.renderOutput(dataTable, element);\n",
              "          const docLink = document.createElement('div');\n",
              "          docLink.innerHTML = docLinkHtml;\n",
              "          element.appendChild(docLink);\n",
              "        }\n",
              "      </script>\n",
              "    </div>\n",
              "  </div>\n",
              "  "
            ]
          },
          "metadata": {},
          "execution_count": 9
        }
      ]
    },
    {
      "cell_type": "markdown",
      "source": [
        "### Reverificação"
      ],
      "metadata": {
        "id": "Sqds4FdblcMK"
      }
    },
    {
      "cell_type": "code",
      "source": [
        "print(f\"DataFrame shape : {df_train.shape}\\n=================================\")\n",
        "print(f\"DataFrame info : {df_train.info()}\\n=================================\")\n",
        "print(f\"DataFrame columns : {df_train.columns}\\n=================================\")\n",
        "print(f\"The type of each column : {df_train.dtypes}\\n=================================\")\n",
        "print(f\"How much missing value in every column : {df_train.isna().sum()}\\n=================================\")\n",
        "print(f\"True counts : {(df_train[['Valid','Task']] == True).sum()}\\n=================================\")\n",
        "print(f\"False counts : {(df_train[['Valid','Task']] == False).sum()}\\n=================================\")"
      ],
      "metadata": {
        "id": "ITLrQ6KJVJD3",
        "colab": {
          "base_uri": "https://localhost:8080/"
        },
        "outputId": "47ae1577-b5b5-4a4f-cb86-6cd8bd6a85b8"
      },
      "execution_count": 10,
      "outputs": [
        {
          "output_type": "stream",
          "name": "stdout",
          "text": [
            "DataFrame shape : (2345378, 9)\n",
            "=================================\n",
            "<class 'pandas.core.frame.DataFrame'>\n",
            "RangeIndex: 2345378 entries, 0 to 2345377\n",
            "Data columns (total 9 columns):\n",
            " #   Column           Dtype  \n",
            "---  ------           -----  \n",
            " 0   Time             int64  \n",
            " 1   AccV             float64\n",
            " 2   AccML            float64\n",
            " 3   AccAP            float64\n",
            " 4   StartHesitation  int64  \n",
            " 5   Turn             int64  \n",
            " 6   Walking          int64  \n",
            " 7   Valid            bool   \n",
            " 8   Task             bool   \n",
            "dtypes: bool(2), float64(3), int64(4)\n",
            "memory usage: 129.7 MB\n",
            "DataFrame info : None\n",
            "=================================\n",
            "DataFrame columns : Index(['Time', 'AccV', 'AccML', 'AccAP', 'StartHesitation', 'Turn', 'Walking',\n",
            "       'Valid', 'Task'],\n",
            "      dtype='object')\n",
            "=================================\n",
            "The type of each column : Time                 int64\n",
            "AccV               float64\n",
            "AccML              float64\n",
            "AccAP              float64\n",
            "StartHesitation      int64\n",
            "Turn                 int64\n",
            "Walking              int64\n",
            "Valid                 bool\n",
            "Task                  bool\n",
            "dtype: object\n",
            "=================================\n",
            "How much missing value in every column : Time               0\n",
            "AccV               0\n",
            "AccML              0\n",
            "AccAP              0\n",
            "StartHesitation    0\n",
            "Turn               0\n",
            "Walking            0\n",
            "Valid              0\n",
            "Task               0\n",
            "dtype: int64\n",
            "=================================\n",
            "True counts : Valid    748922\n",
            "Task     759586\n",
            "dtype: int64\n",
            "=================================\n",
            "False counts : Valid    1596456\n",
            "Task     1585792\n",
            "dtype: int64\n",
            "=================================\n"
          ]
        }
      ]
    },
    {
      "cell_type": "code",
      "source": [
        "print(f\"DataFrame shape : {df_test.shape}\\n=================================\")\n",
        "print(f\"DataFrame info : {df_test.info()}\\n=================================\")\n",
        "print(f\"DataFrame columns : {df_test.columns}\\n=================================\")\n",
        "print(f\"The type of each column : {df_test.dtypes}\\n=================================\")\n",
        "print(f\"How much missing value in every column : {df_test.isna().sum()}\\n=================================\")"
      ],
      "metadata": {
        "id": "RYf8K179Igyd",
        "colab": {
          "base_uri": "https://localhost:8080/"
        },
        "outputId": "d8a6e40b-a18d-4a1e-eb5b-475949918c3e"
      },
      "execution_count": 11,
      "outputs": [
        {
          "output_type": "stream",
          "name": "stdout",
          "text": [
            "DataFrame shape : (286370, 4)\n",
            "=================================\n",
            "<class 'pandas.core.frame.DataFrame'>\n",
            "RangeIndex: 286370 entries, 0 to 286369\n",
            "Data columns (total 4 columns):\n",
            " #   Column  Non-Null Count   Dtype  \n",
            "---  ------  --------------   -----  \n",
            " 0   Time    286370 non-null  int64  \n",
            " 1   AccV    286370 non-null  float64\n",
            " 2   AccML   286370 non-null  float64\n",
            " 3   AccAP   286370 non-null  float64\n",
            "dtypes: float64(3), int64(1)\n",
            "memory usage: 8.7 MB\n",
            "DataFrame info : None\n",
            "=================================\n",
            "DataFrame columns : Index(['Time', 'AccV', 'AccML', 'AccAP'], dtype='object')\n",
            "=================================\n",
            "The type of each column : Time       int64\n",
            "AccV     float64\n",
            "AccML    float64\n",
            "AccAP    float64\n",
            "dtype: object\n",
            "=================================\n",
            "How much missing value in every column : Time     0\n",
            "AccV     0\n",
            "AccML    0\n",
            "AccAP    0\n",
            "dtype: int64\n",
            "=================================\n"
          ]
        }
      ]
    },
    {
      "cell_type": "code",
      "source": [
        "df_test"
      ],
      "metadata": {
        "id": "rbbrt93yp3oN",
        "colab": {
          "base_uri": "https://localhost:8080/",
          "height": 424
        },
        "outputId": "1964cde1-2751-4e20-8aa7-0ad11b2823ca"
      },
      "execution_count": 12,
      "outputs": [
        {
          "output_type": "execute_result",
          "data": {
            "text/plain": [
              "          Time      AccV     AccML     AccAP\n",
              "0            0 -9.533939  0.566322 -1.413525\n",
              "1            1 -9.536140  0.564137 -1.440621\n",
              "2            2 -9.529345  0.561765 -1.429332\n",
              "3            3 -9.531239  0.564227 -1.415490\n",
              "4            4 -9.540825  0.561854 -1.429471\n",
              "...        ...       ...       ...       ...\n",
              "286365  281683 -0.899299 -0.232668  0.389147\n",
              "286366  281684 -0.901973 -0.233051  0.390114\n",
              "286367  281685 -0.901690 -0.231888  0.391896\n",
              "286368  281686 -0.899576 -0.232429  0.391106\n",
              "286369  281687 -0.900289 -0.232363  0.390735\n",
              "\n",
              "[286370 rows x 4 columns]"
            ],
            "text/html": [
              "\n",
              "  <div id=\"df-4880615a-4fb0-4018-b23f-e1e618d88f34\">\n",
              "    <div class=\"colab-df-container\">\n",
              "      <div>\n",
              "<style scoped>\n",
              "    .dataframe tbody tr th:only-of-type {\n",
              "        vertical-align: middle;\n",
              "    }\n",
              "\n",
              "    .dataframe tbody tr th {\n",
              "        vertical-align: top;\n",
              "    }\n",
              "\n",
              "    .dataframe thead th {\n",
              "        text-align: right;\n",
              "    }\n",
              "</style>\n",
              "<table border=\"1\" class=\"dataframe\">\n",
              "  <thead>\n",
              "    <tr style=\"text-align: right;\">\n",
              "      <th></th>\n",
              "      <th>Time</th>\n",
              "      <th>AccV</th>\n",
              "      <th>AccML</th>\n",
              "      <th>AccAP</th>\n",
              "    </tr>\n",
              "  </thead>\n",
              "  <tbody>\n",
              "    <tr>\n",
              "      <th>0</th>\n",
              "      <td>0</td>\n",
              "      <td>-9.533939</td>\n",
              "      <td>0.566322</td>\n",
              "      <td>-1.413525</td>\n",
              "    </tr>\n",
              "    <tr>\n",
              "      <th>1</th>\n",
              "      <td>1</td>\n",
              "      <td>-9.536140</td>\n",
              "      <td>0.564137</td>\n",
              "      <td>-1.440621</td>\n",
              "    </tr>\n",
              "    <tr>\n",
              "      <th>2</th>\n",
              "      <td>2</td>\n",
              "      <td>-9.529345</td>\n",
              "      <td>0.561765</td>\n",
              "      <td>-1.429332</td>\n",
              "    </tr>\n",
              "    <tr>\n",
              "      <th>3</th>\n",
              "      <td>3</td>\n",
              "      <td>-9.531239</td>\n",
              "      <td>0.564227</td>\n",
              "      <td>-1.415490</td>\n",
              "    </tr>\n",
              "    <tr>\n",
              "      <th>4</th>\n",
              "      <td>4</td>\n",
              "      <td>-9.540825</td>\n",
              "      <td>0.561854</td>\n",
              "      <td>-1.429471</td>\n",
              "    </tr>\n",
              "    <tr>\n",
              "      <th>...</th>\n",
              "      <td>...</td>\n",
              "      <td>...</td>\n",
              "      <td>...</td>\n",
              "      <td>...</td>\n",
              "    </tr>\n",
              "    <tr>\n",
              "      <th>286365</th>\n",
              "      <td>281683</td>\n",
              "      <td>-0.899299</td>\n",
              "      <td>-0.232668</td>\n",
              "      <td>0.389147</td>\n",
              "    </tr>\n",
              "    <tr>\n",
              "      <th>286366</th>\n",
              "      <td>281684</td>\n",
              "      <td>-0.901973</td>\n",
              "      <td>-0.233051</td>\n",
              "      <td>0.390114</td>\n",
              "    </tr>\n",
              "    <tr>\n",
              "      <th>286367</th>\n",
              "      <td>281685</td>\n",
              "      <td>-0.901690</td>\n",
              "      <td>-0.231888</td>\n",
              "      <td>0.391896</td>\n",
              "    </tr>\n",
              "    <tr>\n",
              "      <th>286368</th>\n",
              "      <td>281686</td>\n",
              "      <td>-0.899576</td>\n",
              "      <td>-0.232429</td>\n",
              "      <td>0.391106</td>\n",
              "    </tr>\n",
              "    <tr>\n",
              "      <th>286369</th>\n",
              "      <td>281687</td>\n",
              "      <td>-0.900289</td>\n",
              "      <td>-0.232363</td>\n",
              "      <td>0.390735</td>\n",
              "    </tr>\n",
              "  </tbody>\n",
              "</table>\n",
              "<p>286370 rows × 4 columns</p>\n",
              "</div>\n",
              "      <button class=\"colab-df-convert\" onclick=\"convertToInteractive('df-4880615a-4fb0-4018-b23f-e1e618d88f34')\"\n",
              "              title=\"Convert this dataframe to an interactive table.\"\n",
              "              style=\"display:none;\">\n",
              "        \n",
              "  <svg xmlns=\"http://www.w3.org/2000/svg\" height=\"24px\"viewBox=\"0 0 24 24\"\n",
              "       width=\"24px\">\n",
              "    <path d=\"M0 0h24v24H0V0z\" fill=\"none\"/>\n",
              "    <path d=\"M18.56 5.44l.94 2.06.94-2.06 2.06-.94-2.06-.94-.94-2.06-.94 2.06-2.06.94zm-11 1L8.5 8.5l.94-2.06 2.06-.94-2.06-.94L8.5 2.5l-.94 2.06-2.06.94zm10 10l.94 2.06.94-2.06 2.06-.94-2.06-.94-.94-2.06-.94 2.06-2.06.94z\"/><path d=\"M17.41 7.96l-1.37-1.37c-.4-.4-.92-.59-1.43-.59-.52 0-1.04.2-1.43.59L10.3 9.45l-7.72 7.72c-.78.78-.78 2.05 0 2.83L4 21.41c.39.39.9.59 1.41.59.51 0 1.02-.2 1.41-.59l7.78-7.78 2.81-2.81c.8-.78.8-2.07 0-2.86zM5.41 20L4 18.59l7.72-7.72 1.47 1.35L5.41 20z\"/>\n",
              "  </svg>\n",
              "      </button>\n",
              "      \n",
              "  <style>\n",
              "    .colab-df-container {\n",
              "      display:flex;\n",
              "      flex-wrap:wrap;\n",
              "      gap: 12px;\n",
              "    }\n",
              "\n",
              "    .colab-df-convert {\n",
              "      background-color: #E8F0FE;\n",
              "      border: none;\n",
              "      border-radius: 50%;\n",
              "      cursor: pointer;\n",
              "      display: none;\n",
              "      fill: #1967D2;\n",
              "      height: 32px;\n",
              "      padding: 0 0 0 0;\n",
              "      width: 32px;\n",
              "    }\n",
              "\n",
              "    .colab-df-convert:hover {\n",
              "      background-color: #E2EBFA;\n",
              "      box-shadow: 0px 1px 2px rgba(60, 64, 67, 0.3), 0px 1px 3px 1px rgba(60, 64, 67, 0.15);\n",
              "      fill: #174EA6;\n",
              "    }\n",
              "\n",
              "    [theme=dark] .colab-df-convert {\n",
              "      background-color: #3B4455;\n",
              "      fill: #D2E3FC;\n",
              "    }\n",
              "\n",
              "    [theme=dark] .colab-df-convert:hover {\n",
              "      background-color: #434B5C;\n",
              "      box-shadow: 0px 1px 3px 1px rgba(0, 0, 0, 0.15);\n",
              "      filter: drop-shadow(0px 1px 2px rgba(0, 0, 0, 0.3));\n",
              "      fill: #FFFFFF;\n",
              "    }\n",
              "  </style>\n",
              "\n",
              "      <script>\n",
              "        const buttonEl =\n",
              "          document.querySelector('#df-4880615a-4fb0-4018-b23f-e1e618d88f34 button.colab-df-convert');\n",
              "        buttonEl.style.display =\n",
              "          google.colab.kernel.accessAllowed ? 'block' : 'none';\n",
              "\n",
              "        async function convertToInteractive(key) {\n",
              "          const element = document.querySelector('#df-4880615a-4fb0-4018-b23f-e1e618d88f34');\n",
              "          const dataTable =\n",
              "            await google.colab.kernel.invokeFunction('convertToInteractive',\n",
              "                                                     [key], {});\n",
              "          if (!dataTable) return;\n",
              "\n",
              "          const docLinkHtml = 'Like what you see? Visit the ' +\n",
              "            '<a target=\"_blank\" href=https://colab.research.google.com/notebooks/data_table.ipynb>data table notebook</a>'\n",
              "            + ' to learn more about interactive tables.';\n",
              "          element.innerHTML = '';\n",
              "          dataTable['output_type'] = 'display_data';\n",
              "          await google.colab.output.renderOutput(dataTable, element);\n",
              "          const docLink = document.createElement('div');\n",
              "          docLink.innerHTML = docLinkHtml;\n",
              "          element.appendChild(docLink);\n",
              "        }\n",
              "      </script>\n",
              "    </div>\n",
              "  </div>\n",
              "  "
            ]
          },
          "metadata": {},
          "execution_count": 12
        }
      ]
    },
    {
      "cell_type": "markdown",
      "source": [
        "### Cálculos de:\n",
        "\n",
        "\n",
        "1.   Média\n",
        "2.   Desvio padrão\n",
        "3.   Valores mínimo e máximo\n",
        "\n",
        "### Os cálculos foram submetidos apenas aos valores dos acelerômetros"
      ],
      "metadata": {
        "id": "FrQAV7scl2zw"
      }
    },
    {
      "cell_type": "code",
      "source": [
        "# Média\n",
        "mean_value = df_train['AccV'].mean()\n",
        "\n",
        "# Desvio padrão\n",
        "std_deviation = df_train['AccV'].std()\n",
        "\n",
        "# Mínimo valor encontrado\n",
        "min_value = df_train['AccV'].min()\n",
        "\n",
        "# Máximo valor encontrado\n",
        "max_value = df_train['AccV'].max()\n",
        "\n",
        "print(\"Vertical reading Mean: \", mean_value)\n",
        "print(\"Vertical reading  Standard Deviation: \", std_deviation)\n",
        "print(\"Vertical reading  Minimum: \", min_value)\n",
        "print(\"Vertical reading  Maximum: \", max_value)\n",
        "print()\n",
        "\n",
        "mean_value = df_train['AccML'].mean()\n",
        "\n",
        "std_deviation = df_train['AccML'].std()\n",
        "\n",
        "min_value = df_train['AccML'].min()\n",
        "\n",
        "max_value = df_train['AccML'].max()\n",
        "\n",
        "print(\"Mediolaeral reading Mean: \", mean_value)\n",
        "print(\"Mediolaeral reading  Standard Deviation: \", std_deviation)\n",
        "print(\"Mediolaeral reading  Minimum: \", min_value)\n",
        "print(\"Mediolaeral reading  Maximum: \", max_value)\n",
        "print()\n",
        "\n",
        "mean_value = df_train['AccAP'].mean()\n",
        "\n",
        "std_deviation = df_train['AccAP'].std()\n",
        "\n",
        "min_value = df_train['AccAP'].min()\n",
        "\n",
        "max_value = df_train['AccAP'].max()\n",
        "\n",
        "print(\"Anteroposterior reading Mean: \", mean_value)\n",
        "print(\"Anteroposterior reading  Standard Deviation: \", std_deviation)\n",
        "print(\"Anteroposterior reading  Minimum: \", min_value)\n",
        "print(\"Anteroposterior reading  Maximum: \", max_value)\n",
        "\n",
        "fig = plt.figure()\n",
        "ax = plt.axes(projection='3d')\n",
        "\n",
        "ax.scatter3D(df_train['AccV'], df_train['AccML'], df_train['AccAP'])\n",
        "\n",
        "ax.set_xlabel('AccV')\n",
        "ax.set_ylabel('AccML')\n",
        "ax.set_zlabel('AccAP')\n",
        "ax.set_title('Accelerometer Values')\n",
        "\n",
        "plt.show()"
      ],
      "metadata": {
        "id": "Vs6TxlVkq9_k",
        "colab": {
          "base_uri": "https://localhost:8080/",
          "height": 677
        },
        "outputId": "8cb9030b-10ef-46a8-b962-0584dc702f06"
      },
      "execution_count": 13,
      "outputs": [
        {
          "output_type": "stream",
          "name": "stdout",
          "text": [
            "Vertical reading Mean:  -1.31395391899912\n",
            "Vertical reading  Standard Deviation:  1.7213132533303745\n",
            "Vertical reading  Minimum:  -25.1512224620068\n",
            "Vertical reading  Maximum:  1.46351889198778\n",
            "\n",
            "Mediolaeral reading Mean:  -0.002249219039978172\n",
            "Mediolaeral reading  Standard Deviation:  0.25938233630639673\n",
            "Mediolaeral reading  Minimum:  -19.8373213894814\n",
            "Mediolaeral reading  Maximum:  24.5404936985729\n",
            "\n",
            "Anteroposterior reading Mean:  -0.03024192966155013\n",
            "Anteroposterior reading  Standard Deviation:  0.6947068550231541\n",
            "Anteroposterior reading  Minimum:  -10.6161830010118\n",
            "Anteroposterior reading  Maximum:  14.4212751481484\n"
          ]
        },
        {
          "output_type": "display_data",
          "data": {
            "text/plain": [
              "<Figure size 640x480 with 1 Axes>"
            ],
            "image/png": "[encoded data removed]"
          },
          "metadata": {}
        }
      ]
    },
    {
      "cell_type": "markdown",
      "source": [
        "### Matriz de correlação:\n",
        "\n",
        "1.   Em relação aos valores dos acelerômetros\n",
        "2.   Em relação às anotações de confiabilidade da detecção dos eventos\n",
        "3.   Em relação aos valores dos acelerômetros e às colunas de confiabilidade de detecção dos eventos\n",
        "\n"
      ],
      "metadata": {
        "id": "TjVdtqMFmwtZ"
      }
    },
    {
      "cell_type": "code",
      "source": [
        "# Create a subset DataFrame with the accelerometer values\n",
        "accelerometer_df = df_train[['AccV', 'AccML', 'AccAP']]\n",
        "2\n",
        "# Calculate the correlation matrix\n",
        "correlation_matrix = accelerometer_df.corr()\n",
        "\n",
        "# Create a heatmap\n",
        "sns.heatmap(correlation_matrix, annot=True, cmap=\"coolwarm\")\n",
        "\n",
        "# Set the plot title\n",
        "plt.title(\"Correlation Heatmap of Accelerometer Values\")\n",
        "\n",
        "# Show the plot\n",
        "plt.show()"
      ],
      "metadata": {
        "id": "_eDwLnxWzqUl",
        "colab": {
          "base_uri": "https://localhost:8080/",
          "height": 452
        },
        "outputId": "73e4d84e-9a7f-4e67-d750-d6890239e1f9"
      },
      "execution_count": 14,
      "outputs": [
        {
          "output_type": "display_data",
          "data": {
            "text/plain": [
              "<Figure size 640x480 with 2 Axes>"
            ],
            "image/png": "[encoded data removed]"
          },
          "metadata": {}
        }
      ]
    },
    {
      "cell_type": "code",
      "source": [
        "# Create a subset DataFrame with the accelerometer values\n",
        "accelerometer_df = df_train[['Valid', 'Task']]\n",
        "\n",
        "# Calculate the correlation matrix\n",
        "correlation_matrix = accelerometer_df.corr()\n",
        "\n",
        "# Create a heatmap\n",
        "sns.heatmap(correlation_matrix, annot=True, cmap=\"coolwarm\")\n",
        "\n",
        "# Set the plot title\n",
        "plt.title(\"Correlation Heatmap of event detection reliability\")\n",
        "\n",
        "# Show the plot\n",
        "plt.show()"
      ],
      "metadata": {
        "id": "YTVPKd5u3dum",
        "colab": {
          "base_uri": "https://localhost:8080/",
          "height": 452
        },
        "outputId": "5d9a0883-b76b-4f8b-f918-77e7fa92bbde"
      },
      "execution_count": 15,
      "outputs": [
        {
          "output_type": "display_data",
          "data": {
            "text/plain": [
              "<Figure size 640x480 with 2 Axes>"
            ],
            "image/png": "[encoded data removed]"
          },
          "metadata": {}
        }
      ]
    },
    {
      "cell_type": "code",
      "source": [
        "# Create a new column for combined accelerometer coordinates\n",
        "df_train['accel_combined'] = df_train['AccV'] + df_train['AccML'] + df_train['AccAP']\n",
        "\n",
        "# Create a subset DataFrame with the combined accelerometer coordinates, 'Task', and 'Valid' columns\n",
        "subset_df = df_train[['accel_combined', 'Valid', 'Task']]\n",
        "\n",
        "# Calculate the correlation matrix\n",
        "correlation_matrix = subset_df.corr()\n",
        "\n",
        "# Create a heatmap\n",
        "sns.heatmap(correlation_matrix, annot=True, cmap=\"coolwarm\")\n",
        "\n",
        "# Set the plot title\n",
        "plt.title(\"Correlation Heatmap: Accelerometer Coordinates, Task, and Validity\")\n",
        "\n",
        "# Show the plot\n",
        "plt.show()"
      ],
      "metadata": {
        "id": "5bNtVcm3EPYi",
        "colab": {
          "base_uri": "https://localhost:8080/",
          "height": 452
        },
        "outputId": "9d40c804-615e-4391-c998-e331c96cd772"
      },
      "execution_count": 16,
      "outputs": [
        {
          "output_type": "display_data",
          "data": {
            "text/plain": [
              "<Figure size 640x480 with 2 Axes>"
            ],
            "image/png": "[encoded data removed]"
          },
          "metadata": {}
        }
      ]
    },
    {
      "cell_type": "markdown",
      "source": [
        "### Contagem de valores das colunas:\n",
        "\n",
        "*   StartHesitation\n",
        "*   Turn\n",
        "*   Walking\n",
        "\n"
      ],
      "metadata": {
        "id": "hW2eEQ9Ppc58"
      }
    },
    {
      "cell_type": "code",
      "source": [
        "# Calculate the occurrence counts for each event in column 1\n",
        "hesitation_count = df_train['StartHesitation'].value_counts()\n",
        "\n",
        "# Calculate the occurrence counts for each event in column 2\n",
        "turn_count = df_train['Turn'].value_counts()\n",
        "\n",
        "# Calculate the occurrence counts for each event in column 3\n",
        "walk_count = df_train['Walking'].value_counts()\n",
        "\n",
        "# Print the values\n",
        "print(hesitation_count)\n",
        "print(turn_count)\n",
        "print(walk_count)"
      ],
      "metadata": {
        "id": "52mM_GWjM25R",
        "colab": {
          "base_uri": "https://localhost:8080/"
        },
        "outputId": "f345ff2e-4cbf-49c1-dd1f-3ce4986ee653"
      },
      "execution_count": 17,
      "outputs": [
        {
          "output_type": "stream",
          "name": "stdout",
          "text": [
            "0    2345230\n",
            "1        148\n",
            "Name: StartHesitation, dtype: int64\n",
            "0    2248168\n",
            "1      97210\n",
            "Name: Turn, dtype: int64\n",
            "0    2343880\n",
            "1       1498\n",
            "Name: Walking, dtype: int64\n"
          ]
        }
      ]
    },
    {
      "cell_type": "markdown",
      "source": [
        "## Tratamento dos dados"
      ],
      "metadata": {
        "id": "MTJqrQq8qFdV"
      }
    },
    {
      "cell_type": "markdown",
      "source": [
        "### Normalização"
      ],
      "metadata": {
        "id": "uqoFDRtcqIpi"
      }
    },
    {
      "cell_type": "code",
      "source": [
        "norm_for_train = df_train[['AccV','AccML','AccAP']]\n",
        "\n",
        "scaler = MinMaxScaler()\n",
        "df_norm = pd.DataFrame(scaler.fit_transform(norm_for_train), columns=norm_for_train.columns)\n",
        "\n",
        "df_train[df_norm.columns] = df_norm"
      ],
      "metadata": {
        "id": "q2FuzMJpVY0f"
      },
      "execution_count": 18,
      "outputs": []
    },
    {
      "cell_type": "markdown",
      "source": [
        "Se o histograma tiver uma forma de curva gaussiana, significa que os dados foram normalizados"
      ],
      "metadata": {
        "id": "-7D3DftSqNze"
      }
    },
    {
      "cell_type": "code",
      "source": [
        "for column in norm_for_train.columns:\n",
        "    plt.hist(df_train[column], bins=50)\n",
        "    plt.title(f\"Histograma de {column}\")\n",
        "    plt.xlabel(\"Valores\")\n",
        "    plt.ylabel(\"Frequência\")\n",
        "    plt.show()"
      ],
      "metadata": {
        "id": "f_fKL_RZhbX5",
        "colab": {
          "base_uri": "https://localhost:8080/",
          "height": 1000
        },
        "outputId": "c690b756-adbc-4c96-8b3c-408813423ffe"
      },
      "execution_count": 19,
      "outputs": [
        {
          "output_type": "display_data",
          "data": {
            "text/plain": [
              "<Figure size 640x480 with 1 Axes>"
            ],
            "image/png": "[encoded data removed]"
          },
          "metadata": {}
        },
        {
          "output_type": "display_data",
          "data": {
            "text/plain": [
              "<Figure size 640x480 with 1 Axes>"
            ],
            "image/png": "[encoded data removed]"
          },
          "metadata": {}
        },
        {
          "output_type": "display_data",
          "data": {
            "text/plain": [
              "<Figure size 640x480 with 1 Axes>"
            ],
            "image/png": "[encoded data removed]"
          },
          "metadata": {}
        }
      ]
    },
    {
      "cell_type": "markdown",
      "source": [
        "Mudança do tipo das colunas 'Task' e 'Valid' de bool para inteiro, para permitir o treinamento com o dataset"
      ],
      "metadata": {
        "id": "JAdW_rylr1Br"
      }
    },
    {
      "cell_type": "code",
      "source": [
        "to_integer = ['Task', 'Valid']\n",
        "\n",
        "df_train[to_integer] = df_train[to_integer].astype(int)"
      ],
      "metadata": {
        "id": "IqqdQpi1qvzX"
      },
      "execution_count": 20,
      "outputs": []
    },
    {
      "cell_type": "markdown",
      "source": [
        "## Treinamento"
      ],
      "metadata": {
        "id": "qHzcGl4etOpK"
      }
    },
    {
      "cell_type": "markdown",
      "source": [
        "## Separação dos dados entre treino e teste.\n",
        "## Os datasets foram separados em dois: valores dos acelerômetros e notificação de algum evento adicionalmente à confiabilidade comprovada da mesma."
      ],
      "metadata": {
        "id": "qEViPybctUAT"
      }
    },
    {
      "cell_type": "code",
      "source": [
        "# Separação das leituras de acelerômetros\n",
        "accelerometer_cols = ['AccV', 'AccML', 'AccAP']\n",
        "accelerometer_data = df_train[accelerometer_cols]\n",
        "\n",
        "# Separação das colunas de eventos e anotação de confiabilidade\n",
        "event_cols = ['StartHesitation', 'Turn', 'Walking']\n",
        "reliability_cols = ['Valid', 'Task']\n",
        "event_reliability_data = df_train[event_cols + reliability_cols]\n",
        "\n",
        "# Separação entre teste e validação dos dados dos acelerômetros\n",
        "accelerometer_train, accelerometer_val = train_test_split(accelerometer_data, test_size=0.2, random_state=42)\n",
        "\n",
        "# Separação entre teste e validação das colunas de evento e confiabilidade das observações\n",
        "event_reliability_train, event_reliability_val = train_test_split(event_reliability_data, test_size=0.2, random_state=42)\n",
        "\n",
        "print('Accelerometer Train:', accelerometer_train.shape)\n",
        "print('Accelerometer Validation:', accelerometer_val.shape)\n",
        "print('Event and Reliability Train:', event_reliability_train.shape)\n",
        "print('Event and Reliability Validation:', event_reliability_val.shape)"
      ],
      "metadata": {
        "id": "oiGTkNVKe-EB",
        "colab": {
          "base_uri": "https://localhost:8080/"
        },
        "outputId": "5e968b92-dc39-46a4-9502-687d99ee7cc9"
      },
      "execution_count": 21,
      "outputs": [
        {
          "output_type": "stream",
          "name": "stdout",
          "text": [
            "Accelerometer Train: (1876302, 3)\n",
            "Accelerometer Validation: (469076, 3)\n",
            "Event and Reliability Train: (1876302, 5)\n",
            "Event and Reliability Validation: (469076, 5)\n"
          ]
        }
      ]
    },
    {
      "cell_type": "markdown",
      "source": [
        "## Treinamento com a técnica de regressão linear\n",
        "## As métricas de avaliação usadas foram as seguintes:\n",
        "\n",
        "\n",
        "*   Erro Quadrático Médio (MSE - Mean Squared Error):\n",
        "O MSE calcula a média dos quadrados das diferenças entre os valores previstos e os valores reais. Ele fornece uma medida geral da precisão das previsões do modelo. Um MSE menor indica um ajuste melhor entre as previsões do modelo e os valores reais.\n",
        "*   Raiz do Erro Quadrático Médio (RMSE - Root Mean Squared Error):\n",
        "O RMSE é a raiz quadrada do MSE. Ele fornece uma medida da magnitude média dos erros nas previsões. Assim como o MSE, um RMSE menor indica um ajuste melhor do modelo.\n",
        "*   Erro Médio Absoluto (MAE - Mean Absolute Error):\n",
        "O MAE calcula a média das diferenças absolutas entre os valores previstos e os valores reais. Da mesma forma que o MSE e o RMSE, um MAE menor indica um melhor desempenho do modelo."
      ],
      "metadata": {
        "id": "9Mgt4VaIwF0z"
      }
    },
    {
      "cell_type": "code",
      "source": [
        "def autolabel(rects):\n",
        "    for rect in rects:\n",
        "        height = rect.get_height()\n",
        "        ax.annotate(f'{height:.2f}', xy=(rect.get_x() + rect.get_width() / 2, height),\n",
        "                    xytext=(0, 3), textcoords='offset points',\n",
        "                    ha='center', va='bottom')"
      ],
      "metadata": {
        "id": "QYptpndo_pQU"
      },
      "execution_count": 22,
      "outputs": []
    },
    {
      "cell_type": "code",
      "source": [
        "model = LinearRegression()\n",
        "\n",
        "model.fit(accelerometer_train, event_reliability_train)\n",
        "\n",
        "val_predictions = model.predict(accelerometer_val)\n",
        "\n",
        "mse_model = mean_squared_error(event_reliability_val, val_predictions)\n",
        "rmse_model = np.sqrt(mse_model)\n",
        "mae_model = mean_absolute_error(event_reliability_val, val_predictions)\n",
        "\n",
        "metrics = ['MSE', 'RMSE', 'MAE']\n",
        "model_scores = [mse_model, rmse_model, mae_model]\n",
        "\n",
        "x = np.arange(len(metrics))\n",
        "width = 0.35\n",
        "\n",
        "fig, ax = plt.subplots()\n",
        "rects = ax.bar(x - width/2, model_scores, width, label='Linear Regression')\n",
        "\n",
        "ax.set_xlabel('Metrics')\n",
        "ax.set_ylabel('Scores')\n",
        "ax.set_title('Comparison of Metrics for Linear Regression Model')\n",
        "ax.set_xticks(x)\n",
        "ax.set_xticklabels(metrics)\n",
        "ax.legend()\n",
        "\n",
        "autolabel(rects)\n",
        "\n",
        "plt.tight_layout()\n",
        "plt.show()"
      ],
      "metadata": {
        "id": "Eysz20Y3SclD",
        "colab": {
          "base_uri": "https://localhost:8080/",
          "height": 487
        },
        "outputId": "76129915-7350-45bc-ab30-cdf12b26626f"
      },
      "execution_count": 23,
      "outputs": [
        {
          "output_type": "display_data",
          "data": {
            "text/plain": [
              "<Figure size 640x480 with 1 Axes>"
            ],
            "image/png": "[encoded data removed]"
          },
          "metadata": {}
        }
      ]
    },
    {
      "cell_type": "markdown",
      "source": [
        "## Treinamento usando a técnica árvore aleatória regressora"
      ],
      "metadata": {
        "id": "zuBe5dvCwK3g"
      }
    },
    {
      "cell_type": "code",
      "source": [
        "model = RandomForestRegressor(random_state=42)\n",
        "\n",
        "model.fit(accelerometer_train, event_reliability_train)\n",
        "\n",
        "predictions = model.predict(accelerometer_val)\n",
        "\n",
        "mse_model = mean_squared_error(event_reliability_val, predictions)\n",
        "\n",
        "rmse_model = np.sqrt(mse_model)\n",
        "mae_model = mean_absolute_error(event_reliability_val, val_predictions)\n",
        "\n",
        "metrics = ['MSE', 'RMSE', 'MAE']\n",
        "model_scores = [mse_model, rmse_model, mae_model]\n",
        "\n",
        "x = np.arange(len(metrics))\n",
        "width = 0.35\n",
        "\n",
        "fig, ax = plt.subplots()\n",
        "rects = ax.bar(x - width/2, model_scores, width, label='Random Forest Regressor')\n",
        "\n",
        "ax.set_xlabel('Metrics')\n",
        "ax.set_ylabel('Scores')\n",
        "ax.set_title('Comparison of Metrics for Random Forest Regressor')\n",
        "ax.set_xticks(x)\n",
        "ax.set_xticklabels(metrics)\n",
        "ax.legend()\n",
        "\n",
        "autolabel(rects)\n",
        "\n",
        "plt.tight_layout()\n",
        "plt.show()"
      ],
      "metadata": {
        "colab": {
          "base_uri": "https://localhost:8080/",
          "height": 487
        },
        "id": "kCgRnmQOXz6D",
        "outputId": "bcd27465-7ca1-4907-e663-5d38f21b04d8"
      },
      "execution_count": 24,
      "outputs": [
        {
          "output_type": "display_data",
          "data": {
            "text/plain": [
              "<Figure size 640x480 with 1 Axes>"
            ],
            "image/png": "[encoded data removed]"
          },
          "metadata": {}
        }
      ]
    },
    {
      "cell_type": "markdown",
      "source": [
        "## Treinamento com conjunto de dados reduzido: retiradas as colunas Task e Valid"
      ],
      "metadata": {
        "id": "X6jaqXfPMaYn"
      }
    },
    {
      "cell_type": "code",
      "source": [
        "# Separação das leituras de acelerômetros\n",
        "accelerometer_cols = ['AccV', 'AccML', 'AccAP']\n",
        "accelerometer_data = df_train[accelerometer_cols]\n",
        "\n",
        "# Separação das colunas de eventos e anotação de confiabilidade\n",
        "event_cols = ['StartHesitation', 'Turn', 'Walking']\n",
        "events_data = df_train[event_cols]\n",
        "\n",
        "# Separação entre teste e validação dos dados dos acelerômetros\n",
        "accelerometer_train, accelerometer_val = train_test_split(accelerometer_data, test_size=0.2, random_state=42)\n",
        "\n",
        "# Separação entre teste e validação das colunas de evento e confiabilidade das observações\n",
        "event_train, event_val = train_test_split(events_data, test_size=0.2, random_state=42)\n",
        "\n",
        "print('Accelerometer Train:', accelerometer_train.shape)\n",
        "print('Accelerometer Validation:', accelerometer_val.shape)\n",
        "print('Event Train:', event_train.shape)\n",
        "print('Event Validation:', event_val.shape)"
      ],
      "metadata": {
        "colab": {
          "base_uri": "https://localhost:8080/"
        },
        "id": "l-41uC63-5-e",
        "outputId": "6e09ba30-a88e-459f-e9fb-b8d127debc6a"
      },
      "execution_count": 25,
      "outputs": [
        {
          "output_type": "stream",
          "name": "stdout",
          "text": [
            "Accelerometer Train: (1876302, 3)\n",
            "Accelerometer Validation: (469076, 3)\n",
            "Event Train: (1876302, 3)\n",
            "Event Validation: (469076, 3)\n"
          ]
        }
      ]
    },
    {
      "cell_type": "code",
      "source": [
        "model = LinearRegression()\n",
        "\n",
        "model.fit(accelerometer_train, event_train)\n",
        "\n",
        "val_predictions = model.predict(accelerometer_val)\n",
        "\n",
        "mse_model = mean_squared_error(event_val, val_predictions)\n",
        "rmse_model = np.sqrt(mse_model)\n",
        "mae_model = mean_absolute_error(event_val, val_predictions)\n",
        "\n",
        "metrics = ['MSE', 'RMSE', 'MAE']\n",
        "model_scores = [mse_model, rmse_model, mae_model]\n",
        "\n",
        "x = np.arange(len(metrics))\n",
        "width = 0.35\n",
        "\n",
        "fig, ax = plt.subplots()\n",
        "rects = ax.bar(x - width/2, model_scores, width, label='Linear Regression')\n",
        "\n",
        "ax.set_xlabel('Metrics')\n",
        "ax.set_ylabel('Scores')\n",
        "ax.set_title('Comparison of Metrics for Linear Regression Model')\n",
        "ax.set_xticks(x)\n",
        "ax.set_xticklabels(metrics)\n",
        "ax.legend()\n",
        "\n",
        "autolabel(rects)\n",
        "\n",
        "plt.tight_layout()\n",
        "plt.show()"
      ],
      "metadata": {
        "colab": {
          "base_uri": "https://localhost:8080/",
          "height": 487
        },
        "id": "tKnuU464AVMZ",
        "outputId": "82d5b8c7-863b-4db1-aabf-a6b054a7954b"
      },
      "execution_count": 26,
      "outputs": [
        {
          "output_type": "display_data",
          "data": {
            "text/plain": [
              "<Figure size 640x480 with 1 Axes>"
            ],
            "image/png": "[encoded data removed]"
          },
          "metadata": {}
        }
      ]
    },
    {
      "cell_type": "code",
      "source": [
        "model = RandomForestRegressor(random_state=42)\n",
        "\n",
        "model.fit(accelerometer_train, event_train)\n",
        "\n",
        "predictions = model.predict(accelerometer_val)\n",
        "\n",
        "mse_model = mean_squared_error(event_val, predictions)\n",
        "\n",
        "rmse_model = np.sqrt(mse_model)\n",
        "mae_model = mean_absolute_error(event_val, val_predictions)\n",
        "\n",
        "metrics = ['MSE', 'RMSE', 'MAE']\n",
        "model_scores = [mse_model, rmse_model, mae_model]\n",
        "\n",
        "x = np.arange(len(metrics))\n",
        "width = 0.35\n",
        "\n",
        "fig, ax = plt.subplots()\n",
        "rects = ax.bar(x - width/2, model_scores, width, label='Random Forest Regressor')\n",
        "\n",
        "ax.set_xlabel('Metrics')\n",
        "ax.set_ylabel('Scores')\n",
        "ax.set_title('Comparison of Metrics for Random Forest Regressor')\n",
        "ax.set_xticks(x)\n",
        "ax.set_xticklabels(metrics)\n",
        "ax.legend()\n",
        "\n",
        "autolabel(rects)\n",
        "\n",
        "plt.tight_layout()\n",
        "plt.show()"
      ],
      "metadata": {
        "id": "T0BuCkz_AXqy",
        "colab": {
          "base_uri": "https://localhost:8080/",
          "height": 487
        },
        "outputId": "6fa80ed0-c8a6-4001-e575-dc925756179f"
      },
      "execution_count": 27,
      "outputs": [
        {
          "output_type": "display_data",
          "data": {
            "text/plain": [
              "<Figure size 640x480 with 1 Axes>"
            ],
            "image/png": "[encoded data removed]"
          },
          "metadata": {}
        }
      ]
    },
    {
      "cell_type": "markdown",
      "source": [
        "# Próximos passos:\n",
        "\n",
        "*   Aprimorar a forma de separação dos dados\n",
        "*   Construir algoritmos com configuração customizada para o problema\n",
        "*   Avaliar o desempenho com métricas diversas\n",
        "\n"
      ],
      "metadata": {
        "id": "2oUYMoTcyxDx"
      }
    }
  ]
}